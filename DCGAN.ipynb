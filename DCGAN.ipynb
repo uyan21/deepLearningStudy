{
  "nbformat": 4,
  "nbformat_minor": 0,
  "metadata": {
    "colab": {
      "name": "DCGAN.ipynb",
      "provenance": [],
      "collapsed_sections": [],
      "toc_visible": true,
      "authorship_tag": "ABX9TyNENRKNxre+6K/D2W/whZ+i",
      "include_colab_link": true
    },
    "kernelspec": {
      "name": "python3",
      "display_name": "Python 3"
    },
    "accelerator": "GPU"
  },
  "cells": [
    {
      "cell_type": "markdown",
      "metadata": {
        "id": "view-in-github",
        "colab_type": "text"
      },
      "source": [
        "<a href=\"https://colab.research.google.com/github/uyan21/deepLearningStudy/blob/main/DCGAN.ipynb\" target=\"_parent\"><img src=\"https://colab.research.google.com/assets/colab-badge.svg\" alt=\"Open In Colab\"/></a>"
      ]
    },
    {
      "cell_type": "markdown",
      "metadata": {
        "id": "hTPmWYP3pnFS"
      },
      "source": [
        "#tensorflow 사이트에 있는 코드 분석\r\n",
        "https://www.tensorflow.org/tutorials/generative/dcgan\r\n",
        "#생성적 적대 신경망(번역명이 좀 이상해서 문자그대로 생각하면 어려움) \r\n",
        "#(Generative Adversarial Networks)\r\n",
        "#컴퓨터가 그림이나 글씨체를 학습해서 그럴싸하게 따라 그리거나 글씨를 쓰는 것 그거임\r\n",
        "#쉽게 설명하면 두가지 레이어모델이 등장하는데 하나는 제너레이터(생성자)고\r\n",
        "#하나는 디스크리미네이터(검증자)이다.\r\n",
        "#제너레이터가 자기 마음대로 지폐를 찍어내는 위조지폐범이면\r\n",
        "#디스크리미네이터는 이게 위조지폐인지 진짜인지 판별하게 하는 것\r\n",
        "#적대라는 뜻은 한명은 위조지폐 찍어내고 한명은 진짜와 비교해 보고 \r\n",
        "#검증 판별을 학습시켜서\r\n",
        "#위조지폐범은 검증자에게 검사받아보고 퇴짜 맞으면서 계속 학습을 하다보면 \r\n",
        "#결국 더 그럴싸하고 진짜와 흡사한 위조지폐를 만들게 된다는 원리\r\n",
        "\r\n",
        "#예)존재 하지 않는 사람 얼굴 생성기도 이 원리로 만드는 모델임\r\n",
        "\r\n"
      ]
    },
    {
      "cell_type": "markdown",
      "metadata": {
        "id": "q46Gkm-iqjzR"
      },
      "source": [
        "#이러한 라이브러리가 필요하다"
      ]
    },
    {
      "cell_type": "code",
      "metadata": {
        "id": "qFpaW45xppPJ"
      },
      "source": [
        "import tensorflow as tf\r\n",
        "import glob\r\n",
        "import imageio\r\n",
        "import matplotlib.pyplot as plt\r\n",
        "import numpy as np\r\n",
        "import os\r\n",
        "import PIL\r\n",
        "from tensorflow.keras import layers\r\n",
        "import time\r\n",
        "\r\n",
        "from IPython import display"
      ],
      "execution_count": 1,
      "outputs": []
    },
    {
      "cell_type": "markdown",
      "metadata": {
        "id": "Ok7g0SQBq8Xz"
      },
      "source": [
        "mnist 데이터 다운 받아서 정규화 한다"
      ]
    },
    {
      "cell_type": "code",
      "metadata": {
        "id": "3z0nx0lmqgBj"
      },
      "source": [
        "(train_images, train_labels), (_, _) = tf.keras.datasets.mnist.load_data()\r\n",
        "train_images = train_images.reshape(train_images.shape[0], 28, 28, 1).astype('float32')\r\n",
        "train_images = (train_images - 127.5) / 127.5 # 이미지를 [-1, 1]로 정규화합니다.\r\n",
        "BUFFER_SIZE = 60000\r\n",
        "BATCH_SIZE = 256"
      ],
      "execution_count": 2,
      "outputs": []
    },
    {
      "cell_type": "markdown",
      "metadata": {
        "id": "GfwiM48trFvi"
      },
      "source": [
        "batch란 한번에 집어넣는 내용 \r\n",
        "(예 batch_size가 256이면 256문제를 풀고 답을 맞춰서 복습을 하는것)"
      ]
    },
    {
      "cell_type": "code",
      "metadata": {
        "id": "ucqscRDQq2j5"
      },
      "source": [
        "# 데이터 배치를 만들고 섞습니다.\r\n",
        "train_dataset = tf.data.Dataset.from_tensor_slices(train_images).shuffle(BUFFER_SIZE).batch(BATCH_SIZE)"
      ],
      "execution_count": 3,
      "outputs": []
    },
    {
      "cell_type": "markdown",
      "metadata": {
        "id": "iV5rMzmAt2ZR"
      },
      "source": [
        "#요약\r\n",
        "생성자 모델<br>\r\n",
        "랜덤으로 28x28 픽셀 그림 그려서 만들어 내는거임<br>\r\n",
        "인풋이 왜 100이냐면 그냥 난수 시드라고 생각 하면 됨<br>\r\n",
        "랜덤시드(100)->[make_generrator_model()]->28x28 픽셀 그림"
      ]
    },
    {
      "cell_type": "code",
      "metadata": {
        "id": "TocnSPn4twIv"
      },
      "source": [
        "def make_generator_model():\r\n",
        "    model = tf.keras.Sequential()\r\n",
        "    model.add(layers.Dense(7*7*256, use_bias=False, input_shape=(100,)))\r\n",
        "    model.add(layers.BatchNormalization())\r\n",
        "    model.add(layers.LeakyReLU())\r\n",
        "\r\n",
        "    model.add(layers.Reshape((7, 7, 256)))\r\n",
        "    assert model.output_shape == (None, 7, 7, 256) # 주목: 배치사이즈로 None이 주어집니다.\r\n",
        "\r\n",
        "    model.add(layers.Conv2DTranspose(128, (5, 5), strides=(1, 1), padding='same', use_bias=False))\r\n",
        "    assert model.output_shape == (None, 7, 7, 128)\r\n",
        "    model.add(layers.BatchNormalization())\r\n",
        "    model.add(layers.LeakyReLU())\r\n",
        "\r\n",
        "    model.add(layers.Conv2DTranspose(64, (5, 5), strides=(2, 2), padding='same', use_bias=False))\r\n",
        "    assert model.output_shape == (None, 14, 14, 64)\r\n",
        "    model.add(layers.BatchNormalization())\r\n",
        "    model.add(layers.LeakyReLU())\r\n",
        "\r\n",
        "    model.add(layers.Conv2DTranspose(1, (5, 5), strides=(2, 2), padding='same', use_bias=False, activation='tanh'))\r\n",
        "    assert model.output_shape == (None, 28, 28, 1)\r\n",
        "\r\n",
        "    return model"
      ],
      "execution_count": 4,
      "outputs": []
    },
    {
      "cell_type": "markdown",
      "metadata": {
        "id": "PRvihSi7aAQv"
      },
      "source": [
        "아까 말했다시피 생성자 모델이 시드 받아서 이 레이어 모델이 그린거임<br>\r\n",
        "아무런 학습이 되어있지 않아서 막 그린다."
      ]
    },
    {
      "cell_type": "code",
      "metadata": {
        "colab": {
          "base_uri": "https://localhost:8080/",
          "height": 282
        },
        "id": "hJRx9n70Z7uj",
        "outputId": "d1814e11-abe6-4cac-ab13-82bf5f101a83"
      },
      "source": [
        "generator = make_generator_model()\r\n",
        "\r\n",
        "noise = tf.random.normal([1, 100])\r\n",
        "generated_image = generator(noise, training=False)\r\n",
        "\r\n",
        "plt.imshow(generated_image[0, :, :, 0], cmap='gray')"
      ],
      "execution_count": 5,
      "outputs": [
        {
          "output_type": "execute_result",
          "data": {
            "text/plain": [
              "<matplotlib.image.AxesImage at 0x7f3bd0221be0>"
            ]
          },
          "metadata": {
            "tags": []
          },
          "execution_count": 5
        },
        {
          "output_type": "display_data",
          "data": {
            "image/png": "[encoded data removed]",
            "text/plain": [
              "<Figure size 432x288 with 1 Axes>"
            ]
          },
          "metadata": {
            "tags": [],
            "needs_background": "light"
          }
        }
      ]
    },
    {
      "cell_type": "markdown",
      "metadata": {
        "id": "dJpOgU4KaUV8"
      },
      "source": [
        "make_discriminator_model<br>\r\n",
        "함수형으로 구현된 검증 모델<br>\r\n",
        "28x28 픽셀 그림을 집어넣고 <br>\r\n",
        "진짜 글씨쓴거라고 생각되면 양수 <br>\r\n",
        "저 위에 애가 만들었다 싶으면 음수<br> 출력하게 만듦"
      ]
    },
    {
      "cell_type": "code",
      "metadata": {
        "id": "Ddm3YRO0Z-NW"
      },
      "source": [
        "def make_discriminator_model():\r\n",
        "    model = tf.keras.Sequential()\r\n",
        "    model.add(layers.Conv2D(64, (5, 5), strides=(2, 2), padding='same',\r\n",
        "                                     input_shape=[28, 28, 1]))\r\n",
        "    model.add(layers.LeakyReLU())\r\n",
        "    model.add(layers.Dropout(0.3))\r\n",
        "\r\n",
        "    model.add(layers.Conv2D(128, (5, 5), strides=(2, 2), padding='same'))\r\n",
        "    model.add(layers.LeakyReLU())\r\n",
        "    model.add(layers.Dropout(0.3))\r\n",
        "\r\n",
        "    model.add(layers.Flatten())\r\n",
        "    model.add(layers.Dense(1))\r\n",
        "\r\n",
        "    return model"
      ],
      "execution_count": 6,
      "outputs": []
    },
    {
      "cell_type": "markdown",
      "metadata": {
        "id": "Z5v1GsOya5Uq"
      },
      "source": [
        "아까 저위에 만들어논 위조 이미지 검증자로 검증해보니 0.001~이렇게 나옴<br>\r\n",
        "아직 학습이 되지 않아서 별 의미는 없다"
      ]
    },
    {
      "cell_type": "code",
      "metadata": {
        "colab": {
          "base_uri": "https://localhost:8080/"
        },
        "id": "jaMUhfMTavoW",
        "outputId": "5db4aeab-9689-4a71-8e8c-c9af12c5c628"
      },
      "source": [
        "discriminator = make_discriminator_model()\r\n",
        "decision = discriminator(generated_image)\r\n",
        "print (decision)"
      ],
      "execution_count": 7,
      "outputs": [
        {
          "output_type": "stream",
          "text": [
            "tf.Tensor([[-0.00186639]], shape=(1, 1), dtype=float32)\n"
          ],
          "name": "stdout"
        }
      ]
    },
    {
      "cell_type": "markdown",
      "metadata": {
        "id": "mn1J45sxbeNf"
      },
      "source": [
        "손실 함수 할당<br>\r\n",
        "손실률 계산 함수<br>\r\n",
        "binary_cross_entropy 함수 공식<br>\r\n",
        "쉽게 말하면 두 파라미터가 서로 얼마나 떨어져 있나를 계산하는 함수다\r\n",
        "![image.png](data:image/png;base64,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)"
      ]
    },
    {
      "cell_type": "code",
      "metadata": {
        "id": "-t2nhAXla21x"
      },
      "source": [
        "# 이 메서드는 크로스 엔트로피 손실함수 (cross entropy loss)를 계산하기 위해 헬퍼 (helper) 함수를 반환합니다.\r\n",
        "cross_entropy = tf.keras.losses.BinaryCrossentropy(from_logits=True)"
      ],
      "execution_count": 8,
      "outputs": []
    },
    {
      "cell_type": "markdown",
      "metadata": {
        "id": "HjcQfwbWhmx5"
      },
      "source": [
        "쉽게 설명하면 두 배열이 얼마나 멀리 떨어져 있나를 계산한다<br><br>\r\n",
        "[0]으로 구성된 1x1 배열과<br>\r\n",
        "[?] 0~9까지 1x1 배열을 비교하여 엔트로피 값을 출력 해봄<br><br>\r\n",
        "값차이가 날수록 커진다는걸 알수 있다<br><br>\r\n",
        "0 0 비교했는데 왜 0.6931472 이렇게 나왔냐 생각할 수도 있는데<br>\r\n",
        "그냥 기본 계수값이라 생각하면 됨"
      ]
    },
    {
      "cell_type": "code",
      "metadata": {
        "colab": {
          "base_uri": "https://localhost:8080/"
        },
        "id": "k4Mvygp_cQ4D",
        "outputId": "2257f076-247d-4655-c4a6-c0282e743fcb"
      },
      "source": [
        "for i in range(0,10):\r\n",
        "  test=cross_entropy([0.],[float(i)])\r\n",
        "  print(test.numpy())"
      ],
      "execution_count": 9,
      "outputs": [
        {
          "output_type": "stream",
          "text": [
            "0.6931472\n",
            "1.3132617\n",
            "2.126928\n",
            "3.0485873\n",
            "4.01815\n",
            "5.0067153\n",
            "6.0024757\n",
            "7.000911\n",
            "8.000336\n",
            "9.000123\n"
          ],
          "name": "stdout"
        }
      ]
    },
    {
      "cell_type": "markdown",
      "metadata": {
        "id": "NwVB43TylZH5"
      },
      "source": [
        "위에 엔트로피 함수를 이용하여 매소드를 정의한다\r\n",
        "이거는 진짜 이미지랑 1로 구성된 28x28 배열과<br>\r\n",
        "위조 이미지랑 0으로 구성된 28x28 배열의 엔트로피를 계산하여<br>\r\n",
        "합쳐서 출력하는 함수를 정의함\r\n",
        "<br>\r\n",
        "쉽게 말하면 검증자가 위조지폐 얼마나 검증 못 했는지 검사하는\r\n",
        "값 <br>계산하는 함수라고 보면됨\r\n"
      ]
    },
    {
      "cell_type": "code",
      "metadata": {
        "id": "h8_Z7-eQei6I"
      },
      "source": [
        "def discriminator_loss(real_output, fake_output):\r\n",
        "    real_loss = cross_entropy(tf.ones_like(real_output), real_output)\r\n",
        "    fake_loss = cross_entropy(tf.zeros_like(fake_output), fake_output)\r\n",
        "    total_loss = real_loss + fake_loss\r\n",
        "    return total_loss"
      ],
      "execution_count": 10,
      "outputs": []
    },
    {
      "cell_type": "markdown",
      "metadata": {
        "id": "f9BSbAjGqGlo"
      },
      "source": [
        "이거는 생성자 모델 입장에서 위조이미지를 얼마나 들켯는지 값"
      ]
    },
    {
      "cell_type": "code",
      "metadata": {
        "id": "jyWDNAxolbGH"
      },
      "source": [
        "def generator_loss(fake_output):\r\n",
        "    return cross_entropy(tf.ones_like(fake_output), fake_output)"
      ],
      "execution_count": 11,
      "outputs": []
    },
    {
      "cell_type": "markdown",
      "metadata": {
        "id": "4pE5zdgKqahh"
      },
      "source": [
        "레이어 모델이 두개이므로 두개 각각 옵티마이저를 설정해준다"
      ]
    },
    {
      "cell_type": "code",
      "metadata": {
        "id": "i5YDnYvgqFKu"
      },
      "source": [
        "generator_optimizer = tf.keras.optimizers.Adam(1e-4)\r\n",
        "discriminator_optimizer = tf.keras.optimizers.Adam(1e-4)"
      ],
      "execution_count": 12,
      "outputs": []
    },
    {
      "cell_type": "markdown",
      "metadata": {
        "id": "0iNrnneiqhgZ"
      },
      "source": [
        "200회 반복<br>\r\n",
        "아까 100x1사이즈를 생성자 모델 인풋 디멘션으로 줬으니 100으로 설정한거고<br>\r\n",
        "16은 16개를 넣는다는 것<br>\r\n",
        "100 짜리 크기의 시드가 16개씩 생성자 모델에 들어간다는 뜻이다<br>\r\n",
        "100x1을 16개 연속으로 시드로 집어 넣기 위해 이렇게 설정함 "
      ]
    },
    {
      "cell_type": "code",
      "metadata": {
        "id": "m-bEucjqqrNJ"
      },
      "source": [
        "EPOCHS = 200\r\n",
        "noise_dim = 100\r\n",
        "num_examples_to_generate = 16\r\n",
        "\r\n",
        "# 이 시드를 시간이 지나도 재활용하겠습니다. \r\n",
        "# (GIF 애니메이션에서 진전 내용을 시각화하는데 쉽기 때문입니다.) \r\n",
        "seed = tf.random.normal([num_examples_to_generate, noise_dim])"
      ],
      "execution_count": 13,
      "outputs": []
    },
    {
      "cell_type": "markdown",
      "metadata": {
        "id": "tNfw6REtrqDj"
      },
      "source": [
        "여기서 부터는 간단하게 설명하기 어려워서 코드별로 주석을 단다.<br>\r\n",
        "존대말은 개발자 주석이고 반말은 내 주석임"
      ]
    },
    {
      "cell_type": "code",
      "metadata": {
        "id": "Hk6yb-XqrmIr"
      },
      "source": [
        "# `tf.function`이 어떻게 사용되는지 주목해 주세요.\r\n",
        "# 이 데코레이터는 함수를 \"컴파일\"합니다.\r\n",
        "@tf.function\r\n",
        "#훈련(학습) 함수 정의 해놈\r\n",
        "def train_step(images):\r\n",
        "    #100x1 짜리가 256개인 시드를 준다\r\n",
        "    #위에 16개 짜리는 개발자가 편하게 쓸려고 따로 받은건데 별 의미 없음\r\n",
        "    noise = tf.random.normal([BATCH_SIZE, noise_dim])\r\n",
        "    #학습자(레이어모델)이 둘이므로 GradientTape 두개 열어놓고 학습함 \r\n",
        "    #피드 백 2번 해야함으로\r\n",
        "    with tf.GradientTape() as gen_tape, tf.GradientTape() as disc_tape:\r\n",
        "      #생성자가 이미지 만들어낸다\r\n",
        "      generated_images = generator(noise, training=True)\r\n",
        "      #이제 검증자가 진짜랑 가짜 판별값을 real,fake 변수에 담는다\r\n",
        "      real_output = discriminator(images, training=True)\r\n",
        "      fake_output = discriminator(generated_images, training=True)\r\n",
        "      #각각 위에 정의했던 함수로 엔트로피 값 구함\r\n",
        "\r\n",
        "      #gen은 위조 이미지를 얼마나 들켰는지의 값이고\r\n",
        "      #disc는 진짜와 가짜를 얼마나 못 구분했는지의 값이라 보면됨 \r\n",
        "      #얘네들 각자 이 손실 수치를 포함하여 피드백 한다\r\n",
        "      gen_loss = generator_loss(fake_output)\r\n",
        "      disc_loss = discriminator_loss(real_output, fake_output)\r\n",
        "    #GradientTape 닫고 각각 피드백 시작한다\r\n",
        "    gradients_of_generator = gen_tape.gradient(gen_loss, generator.trainable_variables)\r\n",
        "    gradients_of_discriminator = disc_tape.gradient(disc_loss, discriminator.trainable_variables)\r\n",
        "    #각각 최적화 함수로 최적화 시키는것임\r\n",
        "    generator_optimizer.apply_gradients(zip(gradients_of_generator, generator.trainable_variables))\r\n",
        "    discriminator_optimizer.apply_gradients(zip(gradients_of_discriminator, discriminator.trainable_variables))"
      ],
      "execution_count": 14,
      "outputs": []
    },
    {
      "cell_type": "markdown",
      "metadata": {
        "id": "qd1fau2mwKuP"
      },
      "source": [
        "#복잡하게시리 전체적으로 학습시킬 함수를 또 정의해 놈"
      ]
    },
    {
      "cell_type": "code",
      "metadata": {
        "id": "dsDBP_xswG_c"
      },
      "source": [
        "def train(dataset, epochs):\r\n",
        "  for epoch in range(epochs):\r\n",
        "    start = time.time()\r\n",
        "\r\n",
        "    for image_batch in dataset:\r\n",
        "      train_step(image_batch)\r\n",
        "\r\n",
        "    # GIF를 위한 이미지를 바로 생성합니다.\r\n",
        "    display.clear_output(wait=True)\r\n",
        "    generate_and_save_images(generator,\r\n",
        "                             epoch + 1,\r\n",
        "                             seed)\r\n",
        "\r\n",
        "\r\n",
        "    # print (' 에포크 {} 에서 걸린 시간은 {} 초 입니다'.format(epoch +1, time.time()-start))\r\n",
        "    print ('Time for epoch {} is {} sec'.format(epoch + 1, time.time()-start))\r\n",
        "\r\n",
        "  # 마지막 에포크가 끝난 후 생성합니다.\r\n",
        "  display.clear_output(wait=True)\r\n",
        "  generate_and_save_images(generator,\r\n",
        "                           epochs,\r\n",
        "                           seed)"
      ],
      "execution_count": 15,
      "outputs": []
    },
    {
      "cell_type": "markdown",
      "metadata": {
        "id": "KydImrrAwePe"
      },
      "source": [
        "#이거는 그냥 개발자가 배열 이미지로 만들어서 시각화 하려고 만듦"
      ]
    },
    {
      "cell_type": "code",
      "metadata": {
        "id": "Wr6GQIAwwNLa"
      },
      "source": [
        "def generate_and_save_images(model, epoch, test_input):\r\n",
        "  # `training`이 False로 맞춰진 것을 주목하세요.\r\n",
        "  # 이렇게 하면 (배치정규화를 포함하여) 모든 층들이 추론 모드로 실행됩니다. \r\n",
        "  predictions = model(test_input, training=False)\r\n",
        "\r\n",
        "  fig = plt.figure(figsize=(4,4))\r\n",
        "\r\n",
        "  for i in range(predictions.shape[0]):\r\n",
        "      plt.subplot(4, 4, i+1)\r\n",
        "      plt.imshow(predictions[i, :, :, 0] * 127.5 + 127.5, cmap='gray')\r\n",
        "      plt.axis('off')\r\n",
        "\r\n",
        "  plt.savefig('image_at_epoch_{:04d}.png'.format(epoch))\r\n",
        "  plt.show()"
      ],
      "execution_count": 16,
      "outputs": []
    },
    {
      "cell_type": "markdown",
      "metadata": {
        "id": "lUj31InswnIX"
      },
      "source": [
        "#훈련시작\r\n",
        "epoch가 돌 때마다 이미지를 출력하게 코딩해놈"
      ]
    },
    {
      "cell_type": "code",
      "metadata": {
        "colab": {
          "base_uri": "https://localhost:8080/",
          "height": 283
        },
        "id": "wnaA5IrXwkDs",
        "outputId": "9c82d0d9-8390-45ba-f7ce-dd5d4e7814fa"
      },
      "source": [
        "%%time\r\n",
        "train(train_dataset, EPOCHS)"
      ],
      "execution_count": 17,
      "outputs": [
        {
          "output_type": "display_data",
          "data": {
            "image/png": "[encoded data removed]",
            "text/plain": [
              "<Figure size 288x288 with 16 Axes>"
            ]
          },
          "metadata": {
            "tags": [],
            "needs_background": "light"
          }
        },
        {
          "output_type": "stream",
          "text": [
            "CPU times: user 8min 9s, sys: 1min 30s, total: 9min 40s\n",
            "Wall time: 35min 38s\n"
          ],
          "name": "stdout"
        }
      ]
    },
    {
      "cell_type": "markdown",
      "metadata": {
        "id": "WEM5eac0Ru9x"
      },
      "source": [
        ""
      ]
    },
    {
      "cell_type": "code",
      "metadata": {
        "id": "Gwt4RKVQwon9"
      },
      "source": [
        "# 에포크 숫자를 사용하여 하나의 이미지를 보여줍니다.\r\n",
        "def display_image(epoch_no):\r\n",
        "  return PIL.Image.open('image_at_epoch_{:04d}.png'.format(epoch_no))"
      ],
      "execution_count": 18,
      "outputs": []
    },
    {
      "cell_type": "code",
      "metadata": {
        "colab": {
          "base_uri": "https://localhost:8080/",
          "height": 305
        },
        "id": "qiW9MEQAEhNk",
        "outputId": "b1cecfe4-18bd-4d85-8d21-246592f04078"
      },
      "source": [
        "display_image(EPOCHS)"
      ],
      "execution_count": 19,
      "outputs": [
        {
          "output_type": "execute_result",
          "data": {
            "image/png": "[encoded data removed]",
            "text/plain": [
              "<PIL.PngImagePlugin.PngImageFile image mode=RGBA size=288x288 at 0x7F3B79B10048>"
            ]
          },
          "metadata": {
            "tags": []
          },
          "execution_count": 19
        }
      ]
    },
    {
      "cell_type": "markdown",
      "metadata": {
        "id": "25BVvbiEcsAK"
      },
      "source": [
        "밑으로는 개발자가 파일로 만들려고 쓴코드"
      ]
    },
    {
      "cell_type": "code",
      "metadata": {
        "id": "LphTUBqjEkdc"
      },
      "source": [
        "anim_file = 'dcgan.gif'\r\n",
        "\r\n",
        "with imageio.get_writer(anim_file, mode='I') as writer:\r\n",
        "  filenames = glob.glob('image*.png')\r\n",
        "  filenames = sorted(filenames)\r\n",
        "  last = -1\r\n",
        "  for i,filename in enumerate(filenames):\r\n",
        "    frame = 2*(i**0.5)\r\n",
        "    if round(frame) > round(last):\r\n",
        "      last = frame\r\n",
        "    else:\r\n",
        "      continue\r\n",
        "    image = imageio.imread(filename)\r\n",
        "    writer.append_data(image)\r\n",
        "  image = imageio.imread(filename)\r\n",
        "  writer.append_data(image)\r\n",
        "\r\n",
        "import IPython\r\n",
        "if IPython.version_info > (6,2,0,''):\r\n",
        "  display.Image(filename=anim_file)"
      ],
      "execution_count": 22,
      "outputs": []
    },
    {
      "cell_type": "code",
      "metadata": {
        "colab": {
          "base_uri": "https://localhost:8080/",
          "height": 17
        },
        "id": "QW_eEi2gEtu-",
        "outputId": "1d95c447-0f31-4bba-9927-5ac5f47a51c7"
      },
      "source": [
        "try:\r\n",
        "  from google.colab import files\r\n",
        "except ImportError:\r\n",
        "  pass\r\n",
        "else:\r\n",
        "  files.download(anim_file)"
      ],
      "execution_count": 23,
      "outputs": [
        {
          "output_type": "display_data",
          "data": {
            "application/javascript": [
              "\n",
              "    async function download(id, filename, size) {\n",
              "      if (!google.colab.kernel.accessAllowed) {\n",
              "        return;\n",
              "      }\n",
              "      const div = document.createElement('div');\n",
              "      const label = document.createElement('label');\n",
              "      label.textContent = `Downloading \"${filename}\": `;\n",
              "      div.appendChild(label);\n",
              "      const progress = document.createElement('progress');\n",
              "      progress.max = size;\n",
              "      div.appendChild(progress);\n",
              "      document.body.appendChild(div);\n",
              "\n",
              "      const buffers = [];\n",
              "      let downloaded = 0;\n",
              "\n",
              "      const channel = await google.colab.kernel.comms.open(id);\n",
              "      // Send a message to notify the kernel that we're ready.\n",
              "      channel.send({})\n",
              "\n",
              "      for await (const message of channel.messages) {\n",
              "        // Send a message to notify the kernel that we're ready.\n",
              "        channel.send({})\n",
              "        if (message.buffers) {\n",
              "          for (const buffer of message.buffers) {\n",
              "            buffers.push(buffer);\n",
              "            downloaded += buffer.byteLength;\n",
              "            progress.value = downloaded;\n",
              "          }\n",
              "        }\n",
              "      }\n",
              "      const blob = new Blob(buffers, {type: 'application/binary'});\n",
              "      const a = document.createElement('a');\n",
              "      a.href = window.URL.createObjectURL(blob);\n",
              "      a.download = filename;\n",
              "      div.appendChild(a);\n",
              "      a.click();\n",
              "      div.remove();\n",
              "    }\n",
              "  "
            ],
            "text/plain": [
              "<IPython.core.display.Javascript object>"
            ]
          },
          "metadata": {
            "tags": []
          }
        },
        {
          "output_type": "display_data",
          "data": {
            "application/javascript": [
              "download(\"download_a2a8c8ab-971a-4e6b-af8b-852225ca9a6a\", \"dcgan2.gif\", 833731)"
            ],
            "text/plain": [
              "<IPython.core.display.Javascript object>"
            ]
          },
          "metadata": {
            "tags": []
          }
        }
      ]
    },
    {
      "cell_type": "markdown",
      "metadata": {
        "id": "uU7SvOfdc-8J"
      },
      "source": [
        "이러한 방식을 \r\n",
        "(Deep Convolutional Generative Adversarial Networks, DCGAN)\r\n",
        "<br>이라고하는데<br>\r\n",
        "tensorflow 사이트에 코드가 제공되며<br>\r\n",
        "예제가 학습시간도 길지않아서 부담 안된다<br>\r\n",
        "하지만 코드 내용 자체와 GAN방식이 복잡하고 상당히 어렵기 때문에<br>\r\n",
        "이해하고 써먹는데 까지 시간투자를 많이 해야한다<br>\r\n",
        "여기서 소개된 GAN방식은 28x28 픽셀단위에서 학습했기 때문에<br>\r\n",
        "시간이 오래걸리지 않았지만<br>\r\n",
        "고해상도를 취급할때는 꽤나 많은 시간과 컴퓨팅 자원을 필요로 한다<br>\r\n",
        "너무 어렵기 때문에 이해 못해도 컴퓨터 실력 안 좋은 것 아님\r\n"
      ]
    }
  ]
}