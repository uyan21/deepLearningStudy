{
  "nbformat": 4,
  "nbformat_minor": 0,
  "metadata": {
    "colab": {
      "name": "crema-d.ipynb",
      "provenance": [],
      "collapsed_sections": [],
      "authorship_tag": "ABX9TyNy2XvGuRJai/hQdPMPp8rN",
      "include_colab_link": true
    },
    "kernelspec": {
      "name": "python3",
      "display_name": "Python 3"
    }
  },
  "cells": [
    {
      "cell_type": "markdown",
      "metadata": {
        "id": "view-in-github",
        "colab_type": "text"
      },
      "source": [
        "<a href=\"https://colab.research.google.com/github/uyan21/deepLearningStudy/blob/main/crema_d.ipynb\" target=\"_parent\"><img src=\"https://colab.research.google.com/assets/colab-badge.svg\" alt=\"Open In Colab\"/></a>"
      ]
    },
    {
      "cell_type": "markdown",
      "metadata": {
        "id": "hrdxmQShCXrk"
      },
      "source": [
        "과연 컴퓨터는 인간의 목소리에서 감정을 예측할 수 있는가"
      ]
    },
    {
      "cell_type": "code",
      "metadata": {
        "id": "4kep-sInSwNL",
        "colab": {
          "base_uri": "https://localhost:8080/"
        },
        "outputId": "bf4af3ad-d115-48b3-e216-831f67721798"
      },
      "source": [
        "#필요한 라이브러리 임포트\n",
        "!pip install pydub\n",
        "import tensorflow as tf\n",
        "import tensorflow_datasets as tfds\n",
        "from keras.utils import to_categorical\n",
        "from keras.models import Sequential\n",
        "from keras.layers import Dense,Conv2D,MaxPooling2D,Flatten,Dropout\n",
        "#주파수 시리얼데이터 길이 맞추기용 변수(여러방법으로 실험해보기 위함)\n",
        "length=40000"
      ],
      "execution_count": 72,
      "outputs": [
        {
          "output_type": "stream",
          "text": [
            "Requirement already satisfied: pydub in /usr/local/lib/python3.6/dist-packages (0.24.1)\n"
          ],
          "name": "stdout"
        }
      ]
    },
    {
      "cell_type": "code",
      "metadata": {
        "id": "Uel1T_EUS3SP"
      },
      "source": [
        "#목소리와 감정 데이터로\n",
        "#0 행복, 1 슬픔, 2 분노, 3 두려움, 4 혐오, 5 중립으로 표현 결과가 나옴\n",
        "#다양한 민족적 배경을 가진 91 명의 배우가 참여했다고 함\n",
        "#일단 믿고 학습 돌림\n",
        "ds=tfds.load('crema_d',shuffle_files=True)"
      ],
      "execution_count": 73,
      "outputs": []
    },
    {
      "cell_type": "code",
      "metadata": {
        "id": "-9wuqYHGTd0i"
      },
      "source": [
        "#여기서 부터 데이터 전처리 과정 시작\n",
        "\n",
        "#요약\n",
        "#데이터셋에 train, test, val을 꺼낸다\n",
        "#음성 데이터이므로 길이가 다 다르므로 일렬데이터를 (40000,)\n",
        "#강제로 바꿔서 맞춘다(늘어날시 앞뒤 데이터 반복)\n",
        "#그 이후 y값 원-핫 인코딩 과정\n",
        "ds_train=ds['train']\n",
        "ds_test=ds['test']\n",
        "ds_val=ds['validation']"
      ],
      "execution_count": 74,
      "outputs": []
    },
    {
      "cell_type": "code",
      "metadata": {
        "colab": {
          "base_uri": "https://localhost:8080/",
          "height": 283
        },
        "id": "EQOORiBHaIc0",
        "outputId": "6df18d73-08b8-4d9a-9064-d69b7caac6db"
      },
      "source": [
        "import numpy as np\n",
        "import librosa\n",
        "import matplotlib.pyplot as plt\n",
        "\n",
        "###train 데이터 전처리\n",
        "\n",
        "arrl=[]\n",
        "for i in ds_train.as_numpy_iterator():\n",
        "#for i in ds_train.take(10):\n",
        "  arr=i['audio']\n",
        "  arr=np.asarray(arr)\n",
        "  arr=np.resize(arr,(length,))\n",
        "  #print(arr.shape)\n",
        "  arrl.append(arr)\n",
        "x_train=np.asarray(arrl)\n",
        "print(x_train.shape)\n",
        "\n",
        "#0 행복, 1 슬픔, 2 분노, 3 두려움, 4 혐오, 5 중립\n",
        "arrl=[]\n",
        "for i in ds_train.as_numpy_iterator():\n",
        "  y_=i['label']\n",
        "  arrl.append(y_)\n",
        "y_train=np.asarray(arrl)\n",
        "print(y_train.shape)\n",
        "\n",
        "#주파수 시각화 해본다\n",
        "k,a=plt.subplots(5)\n",
        "for i in range(5):\n",
        "  a[i].axis('off')\n",
        "  a[i].plot(x_train[i])\n",
        "\n",
        "plt.show()"
      ],
      "execution_count": 75,
      "outputs": [
        {
          "output_type": "stream",
          "text": [
            "(5144, 40000)\n",
            "(5144,)\n"
          ],
          "name": "stdout"
        },
        {
          "output_type": "display_data",
          "data": {
            "image/png": "[encoded data removed]",
            "text/plain": [
              "<Figure size 432x288 with 5 Axes>"
            ]
          },
          "metadata": {
            "tags": [],
            "needs_background": "light"
          }
        }
      ]
    },
    {
      "cell_type": "code",
      "metadata": {
        "colab": {
          "base_uri": "https://localhost:8080/",
          "height": 283
        },
        "id": "kW-3t-PStQb-",
        "outputId": "a0a87fa5-0c54-4f83-87df-d1451e660f93"
      },
      "source": [
        "###validation 데이터 전처리\n",
        "\n",
        "arrl=[]\n",
        "for i in ds_val.as_numpy_iterator():\n",
        "#for i in ds_val.take(10):\n",
        "  arr=i['audio']\n",
        "  arr=np.asarray(arr)\n",
        "  arr=np.resize(arr,(length,))\n",
        "  #print(arr.shape)\n",
        "  arrl.append(arr)\n",
        "x_val=np.asarray(arrl)\n",
        "print(x_val.shape)\n",
        "\n",
        "#0 행복, 1 슬픔, 2 분노, 3 두려움, 4 혐오, 5 중립\n",
        "arrl=[]\n",
        "for i in ds_val.as_numpy_iterator():\n",
        "  y_=i['label']\n",
        "  arrl.append(y_)\n",
        "y_val=np.asarray(arrl)\n",
        "print(y_val.shape)\n",
        "\n",
        "#주파수 시각화 해본다\n",
        "k,a=plt.subplots(5)\n",
        "for i in range(5):\n",
        "  a[i].axis('off')\n",
        "  a[i].plot(x_val[i])\n",
        "\n",
        "plt.show()"
      ],
      "execution_count": 76,
      "outputs": [
        {
          "output_type": "stream",
          "text": [
            "(738, 40000)\n",
            "(738,)\n"
          ],
          "name": "stdout"
        },
        {
          "output_type": "display_data",
          "data": {
            "image/png": "[encoded data removed]",
            "text/plain": [
              "<Figure size 432x288 with 5 Axes>"
            ]
          },
          "metadata": {
            "tags": [],
            "needs_background": "light"
          }
        }
      ]
    },
    {
      "cell_type": "code",
      "metadata": {
        "colab": {
          "base_uri": "https://localhost:8080/",
          "height": 283
        },
        "id": "upKYhOaDp_di",
        "outputId": "6aea7788-4b82-400a-b491-fa9d224beffb"
      },
      "source": [
        "###test 데이터 전처리\n",
        "arrl=[]\n",
        "for i in ds_test.as_numpy_iterator():\n",
        "#for i in ds_test.take(10):\n",
        "  arr=i['audio']\n",
        "  arr=np.asarray(arr)\n",
        "  arr=np.resize(arr,(length,))\n",
        "  #print(arr.shape)\n",
        "  arrl.append(arr)\n",
        "x_test=np.asarray(arrl)\n",
        "print(x_test.shape)\n",
        "\n",
        "#0 행복, 1 슬픔, 2 분노, 3 두려움, 4 혐오, 5 중립\n",
        "arrl=[]\n",
        "for i in ds_test.as_numpy_iterator():\n",
        "  y_=i['label']\n",
        "  arrl.append(y_)\n",
        "y_test=np.asarray(arrl)\n",
        "print(y_test.shape)\n",
        "\n",
        "#주파수 시각화 해본다\n",
        "k,a=plt.subplots(5)\n",
        "for i in range(5):\n",
        "  a[i].axis('off')\n",
        "  a[i].plot(x_test[i])\n",
        "\n",
        "plt.show()"
      ],
      "execution_count": 77,
      "outputs": [
        {
          "output_type": "stream",
          "text": [
            "(1556, 40000)\n",
            "(1556,)\n"
          ],
          "name": "stdout"
        },
        {
          "output_type": "display_data",
          "data": {
            "image/png": "[encoded data removed]",
            "text/plain": [
              "<Figure size 432x288 with 5 Axes>"
            ]
          },
          "metadata": {
            "tags": [],
            "needs_background": "light"
          }
        }
      ]
    },
    {
      "cell_type": "code",
      "metadata": {
        "colab": {
          "base_uri": "https://localhost:8080/"
        },
        "id": "96iwqO4PaaNq",
        "outputId": "026ff67d-bb27-4471-906c-07d0a4b87d86"
      },
      "source": [
        "#train 데이터 원-핫 인코딩\n",
        "y_train=to_categorical(y_train)\n",
        "print(y_train.shape)"
      ],
      "execution_count": 78,
      "outputs": [
        {
          "output_type": "stream",
          "text": [
            "(5144, 6)\n"
          ],
          "name": "stdout"
        }
      ]
    },
    {
      "cell_type": "code",
      "metadata": {
        "colab": {
          "base_uri": "https://localhost:8080/"
        },
        "id": "vJcewcpCtdxt",
        "outputId": "a37a4d29-f247-4ebe-a7c1-0bb34e45935e"
      },
      "source": [
        "#validation 데이터 원-핫 인코딩\n",
        "y_val=to_categorical(y_val)\n",
        "print(y_val.shape)"
      ],
      "execution_count": 79,
      "outputs": [
        {
          "output_type": "stream",
          "text": [
            "(738, 6)\n"
          ],
          "name": "stdout"
        }
      ]
    },
    {
      "cell_type": "code",
      "metadata": {
        "colab": {
          "base_uri": "https://localhost:8080/"
        },
        "id": "YynoD7NsnKzJ",
        "outputId": "f6000308-9e2d-414a-9abc-18a3831d057e"
      },
      "source": [
        "#test 데이터 원-핫 인코딩\n",
        "y_test=to_categorical(y_test)\n",
        "print(y_test.shape)"
      ],
      "execution_count": 80,
      "outputs": [
        {
          "output_type": "stream",
          "text": [
            "(1556, 6)\n"
          ],
          "name": "stdout"
        }
      ]
    },
    {
      "cell_type": "code",
      "metadata": {
        "colab": {
          "base_uri": "https://localhost:8080/"
        },
        "id": "2q_TwO3q6yhk",
        "outputId": "a8ff2993-4636-4e60-b19c-253d6d56d924"
      },
      "source": [
        "#CNN에 집어넣기위해 데이터의 배열을 바꿔준다\n",
        "x_train=x_train.reshape(x_train.shape[0],200,200,1)\n",
        "x_test=x_test.reshape(x_test.shape[0],200,200,1)\n",
        "x_val=x_val.reshape(x_val.shape[0],200,200,1)\n",
        "print(x_train.shape,x_test.shape,x_val.shape)"
      ],
      "execution_count": 81,
      "outputs": [
        {
          "output_type": "stream",
          "text": [
            "(5144, 200, 200, 1) (1556, 200, 200, 1) (738, 200, 200, 1)\n"
          ],
          "name": "stdout"
        }
      ]
    },
    {
      "cell_type": "code",
      "metadata": {
        "colab": {
          "base_uri": "https://localhost:8080/"
        },
        "id": "olOr8a6Cng3u",
        "outputId": "b41803b0-e6d0-4243-a9cb-bef1c3504f3f"
      },
      "source": [
        "#데이터가 너무 커서 mnist처럼 Dense만 가지고는 안됨\n",
        "#그 유명한 CNN으로 레이어를 쌓는다\n",
        "model = Sequential()\n",
        "model.add(Conv2D(64,(2,2),padding='same',activation='relu',input_shape=x_train.shape[1:]))\n",
        "model.add(MaxPooling2D(pool_size=(2, 2)))\n",
        "\n",
        "model.add(Conv2D(32, (2, 2), activation='relu'))\n",
        "model.add(MaxPooling2D(pool_size=(2, 2)))\n",
        "\n",
        "model.add(Conv2D(64, (2, 2), activation='relu'))\n",
        "model.add(MaxPooling2D(pool_size=(2, 2)))\n",
        "\n",
        "model.add(Flatten())\n",
        "model.add(Dense(64, activation='relu'))\n",
        "model.add(Dropout(0.5))\n",
        "model.add(Dense(6, activation='softmax'))\n",
        "model.compile(loss='categorical_crossentropy', optimizer='adam', metrics=['accuracy'])\n",
        "model.summary()"
      ],
      "execution_count": 82,
      "outputs": [
        {
          "output_type": "stream",
          "text": [
            "Model: \"sequential_28\"\n",
            "_________________________________________________________________\n",
            "Layer (type)                 Output Shape              Param #   \n",
            "=================================================================\n",
            "conv2d_31 (Conv2D)           (None, 200, 200, 64)      320       \n",
            "_________________________________________________________________\n",
            "max_pooling2d_17 (MaxPooling (None, 100, 100, 64)      0         \n",
            "_________________________________________________________________\n",
            "conv2d_32 (Conv2D)           (None, 99, 99, 32)        8224      \n",
            "_________________________________________________________________\n",
            "max_pooling2d_18 (MaxPooling (None, 49, 49, 32)        0         \n",
            "_________________________________________________________________\n",
            "conv2d_33 (Conv2D)           (None, 48, 48, 64)        8256      \n",
            "_________________________________________________________________\n",
            "max_pooling2d_19 (MaxPooling (None, 24, 24, 64)        0         \n",
            "_________________________________________________________________\n",
            "flatten_2 (Flatten)          (None, 36864)             0         \n",
            "_________________________________________________________________\n",
            "dense_7 (Dense)              (None, 64)                2359360   \n",
            "_________________________________________________________________\n",
            "dropout_2 (Dropout)          (None, 64)                0         \n",
            "_________________________________________________________________\n",
            "dense_8 (Dense)              (None, 6)                 390       \n",
            "=================================================================\n",
            "Total params: 2,376,550\n",
            "Trainable params: 2,376,550\n",
            "Non-trainable params: 0\n",
            "_________________________________________________________________\n"
          ],
          "name": "stdout"
        }
      ]
    },
    {
      "cell_type": "code",
      "metadata": {
        "colab": {
          "base_uri": "https://localhost:8080/"
        },
        "id": "0oiU2ladoRs1",
        "outputId": "1ea5e62d-1375-42d5-9f84-5736aaab89ab"
      },
      "source": [
        "#학습 시작\n",
        "hist=model.fit(x_train,y_train,epochs=5,batch_size=16,validation_data=(x_val,y_val))"
      ],
      "execution_count": 83,
      "outputs": [
        {
          "output_type": "stream",
          "text": [
            "Epoch 1/5\n",
            "322/322 [==============================] - 214s 664ms/step - loss: 62.9777 - accuracy: 0.1645 - val_loss: 1.7910 - val_accuracy: 0.1707\n",
            "Epoch 2/5\n",
            "322/322 [==============================] - 214s 664ms/step - loss: 1.7908 - accuracy: 0.1724 - val_loss: 1.7905 - val_accuracy: 0.1707\n",
            "Epoch 3/5\n",
            "322/322 [==============================] - 214s 663ms/step - loss: 1.7906 - accuracy: 0.1685 - val_loss: 1.7903 - val_accuracy: 0.1707\n",
            "Epoch 4/5\n",
            "322/322 [==============================] - 213s 660ms/step - loss: 1.7905 - accuracy: 0.1619 - val_loss: 1.7903 - val_accuracy: 0.1707\n",
            "Epoch 5/5\n",
            "322/322 [==============================] - 211s 657ms/step - loss: 1.7904 - accuracy: 0.1647 - val_loss: 1.7902 - val_accuracy: 0.1707\n"
          ],
          "name": "stdout"
        }
      ]
    },
    {
      "cell_type": "code",
      "metadata": {
        "colab": {
          "base_uri": "https://localhost:8080/"
        },
        "id": "dV84-o_5pZhD",
        "outputId": "db44a478-41be-46e4-a726-6e646fde882e"
      },
      "source": [
        "#1/6이면 1.6666 인데\n",
        "#이 정도면 거의 찍어서 맞추는 수준\n",
        "model.evaluate(x_test,y_test)"
      ],
      "execution_count": 84,
      "outputs": [
        {
          "output_type": "stream",
          "text": [
            "49/49 [==============================] - 15s 296ms/step - loss: 1.7903 - accuracy: 0.1703\n"
          ],
          "name": "stdout"
        },
        {
          "output_type": "execute_result",
          "data": {
            "text/plain": [
              "[1.7902580499649048, 0.17030848562717438]"
            ]
          },
          "metadata": {
            "tags": []
          },
          "execution_count": 84
        }
      ]
    },
    {
      "cell_type": "code",
      "metadata": {
        "colab": {
          "base_uri": "https://localhost:8080/",
          "height": 283
        },
        "id": "F4U_97l6DC6p",
        "outputId": "59116973-d9d4-46de-cea6-4d0e50ef2a8c"
      },
      "source": [
        "#학습시간 너무 많이 필요함\n",
        "fig, loss_ax = plt.subplots()\n",
        "acc_ax = loss_ax.twinx()\n",
        "loss_ax.axis([0,5,0,60])\n",
        "loss_ax.plot(hist.history['loss'], 'y', label='train loss')\n",
        "loss_ax.plot(hist.history['val_loss'], 'r', label='val loss')\n",
        "loss_ax.set_xlabel('epoch')\n",
        "loss_ax.set_ylabel('loss')\n",
        "loss_ax.legend(loc='upper left')\n",
        "\n",
        "acc_ax.axis([0,5,0,0.5])\n",
        "acc_ax.plot(hist.history['accuracy'], 'b', label='train acc')\n",
        "acc_ax.plot(hist.history['val_accuracy'], 'g', label='val acc')\n",
        "acc_ax.set_ylabel('accuracy')\n",
        "acc_ax.legend(loc='upper right')\n",
        "\n",
        "plt.show()"
      ],
      "execution_count": 99,
      "outputs": [
        {
          "output_type": "display_data",
          "data": {
            "image/png": "[encoded data removed]",
            "text/plain": [
              "<Figure size 432x288 with 2 Axes>"
            ]
          },
          "metadata": {
            "tags": [],
            "needs_background": "light"
          }
        }
      ]
    },
    {
      "cell_type": "code",
      "metadata": {
        "id": "Gz9uzQbZHlkS"
      },
      "source": [
        ""
      ],
      "execution_count": null,
      "outputs": []
    }
  ]
}