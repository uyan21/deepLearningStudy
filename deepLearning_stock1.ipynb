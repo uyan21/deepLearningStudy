{
  "nbformat": 4,
  "nbformat_minor": 0,
  "metadata": {
    "colab": {
      "name": "deepLearning_stock1.ipynb",
      "provenance": [],
      "collapsed_sections": [],
      "mount_file_id": "1X_SEy6WFpx2gFrbIu-d3WqKtpvNdAYIk",
      "authorship_tag": "ABX9TyOutVXEszGQBo8POkGW4njA",
      "include_colab_link": true
    },
    "kernelspec": {
      "name": "python3",
      "display_name": "Python 3"
    },
    "accelerator": "TPU"
  },
  "cells": [
    {
      "cell_type": "markdown",
      "metadata": {
        "id": "view-in-github",
        "colab_type": "text"
      },
      "source": [
        "<a href=\"https://colab.research.google.com/github/uyan21/deepLearningStudy/blob/main/deepLearning_stock1.ipynb\" target=\"_parent\"><img src=\"https://colab.research.google.com/assets/colab-badge.svg\" alt=\"Open In Colab\"/></a>"
      ]
    },
    {
      "cell_type": "markdown",
      "metadata": {
        "id": "t5i5E5K4RK8Y"
      },
      "source": [
        "딥러닝으로 주식단타 예측이 가능한가"
      ]
    },
    {
      "cell_type": "code",
      "metadata": {
        "id": "Bnql29_FAy5I"
      },
      "source": [
        "#주가 정보 크롤링을 위해서 url 입력\n",
        "code=\"195990\"\n",
        "url=\"https://finance.naver.com/item/sise_day.nhn?code=\"+code\n",
        "\n",
        "import requests\n",
        "from bs4 import BeautifulSoup\n",
        "from openpyxl import Workbook\n",
        "import pandas as pd\n",
        "import matplotlib.pyplot as plt\n",
        "#엑셀에 따로쓰기 위함\n",
        "wb=Workbook()\n",
        "ws=wb.active"
      ],
      "execution_count": null,
      "outputs": []
    },
    {
      "cell_type": "code",
      "metadata": {
        "id": "ESzeYnNFC0zf"
      },
      "source": [
        "#1~129페이지 까지 긁는다\n",
        "#액면 분할 이후 데이터 취급 주의\n",
        "for i in range(1,130):\n",
        "  tmplist=[]\n",
        "  tmp=0\n",
        "  source=requests.get(url+\"&page=\"+str(i)).text\n",
        "\n",
        "  soup=BeautifulSoup(source,\"html.parser\")\n",
        "  html=soup.select(\"table.type2\")\n",
        "  for t in html:\n",
        "    text=t.get_text().replace(\"\\t\",\"\")\n",
        "    while \"\\n\\n\" in text:\n",
        "      text=text.replace(\"\\n\\n\",\"\\n\")\n",
        "  text=text[1:]\n",
        "  textlist=text.split(\"\\n\")\n",
        "  if i>1:\n",
        "    textlist=textlist[7:]\n",
        "\n",
        "  for t in textlist:\n",
        "    tmplist.append(t)\n",
        "    tmp+=1\n",
        "    if tmp>6:\n",
        "      print(tmplist)\n",
        "      ws.append(tmplist)\n",
        "      tmplist=[]\n",
        "      tmp=0\n",
        "  print(i)\n",
        "  wb.save(\"drive/MyDrive/stock1.xlsx\")"
      ],
      "execution_count": null,
      "outputs": []
    },
    {
      "cell_type": "code",
      "metadata": {
        "id": "01BFtxYJC8Gj",
        "colab": {
          "base_uri": "https://localhost:8080/"
        },
        "outputId": "8997edd0-66d6-46d6-ca70-36f2d1db0124"
      },
      "source": [
        "#크롤링한 엑셀 데이터 읽어옴\n",
        "df=pd.read_excel(\"drive/MyDrive/stock1.xlsx\")\n",
        "print(df['종가'])"
      ],
      "execution_count": null,
      "outputs": [
        {
          "output_type": "stream",
          "text": [
            "0        2,625\n",
            "1        2,660\n",
            "2        2,735\n",
            "3        3,000\n",
            "4        3,000\n",
            "         ...  \n",
            "1285    16,050\n",
            "1286    16,900\n",
            "1287    17,000\n",
            "1288    16,900\n",
            "1289    16,800\n",
            "Name: 종가, Length: 1290, dtype: object\n"
          ],
          "name": "stdout"
        }
      ]
    },
    {
      "cell_type": "code",
      "metadata": {
        "colab": {
          "base_uri": "https://localhost:8080/",
          "height": 265
        },
        "id": "Zo91rlIXxpU2",
        "outputId": "3b860c76-e255-4252-d4a1-6e585ff11989"
      },
      "source": [
        "#종가 데이터 그래프 출력(정규화 필요함)\n",
        "plt.plot(df['종가'])\n",
        "plt.show()"
      ],
      "execution_count": null,
      "outputs": [
        {
          "output_type": "display_data",
          "data": {
            "image/png": "[encoded data removed]",
            "text/plain": [
              "<Figure size 432x288 with 1 Axes>"
            ]
          },
          "metadata": {
            "tags": [],
            "needs_background": "light"
          }
        }
      ]
    },
    {
      "cell_type": "code",
      "metadata": {
        "id": "PZo5UNKazUIH"
      },
      "source": [
        "#정규화를 위해 ,빼고 문자열 float으로 형변환\n",
        "df=pd.read_excel(\"drive/MyDrive/stock1.xlsx\")\n",
        "for i in range(1,7):\n",
        "  df.iloc[:,i]=df.iloc[:,i].str.replace(pat=',', repl='', regex=False)\n",
        "df.iloc[:,1:]=df.iloc[:,1:].astype(float)"
      ],
      "execution_count": null,
      "outputs": []
    },
    {
      "cell_type": "code",
      "metadata": {
        "colab": {
          "base_uri": "https://localhost:8080/"
        },
        "id": "8ZTh1d-izWvr",
        "outputId": "6e0708c0-93bf-4ea0-ada0-c4b2c3dc6536"
      },
      "source": [
        "#확인\n",
        "df.iloc[:,1]"
      ],
      "execution_count": null,
      "outputs": [
        {
          "output_type": "execute_result",
          "data": {
            "text/plain": [
              "0        2625\n",
              "1        2660\n",
              "2        2735\n",
              "3        3000\n",
              "4        3000\n",
              "        ...  \n",
              "1285    16050\n",
              "1286    16900\n",
              "1287    17000\n",
              "1288    16900\n",
              "1289    16800\n",
              "Name: 종가, Length: 1290, dtype: object"
            ]
          },
          "metadata": {
            "tags": []
          },
          "execution_count": 6
        }
      ]
    },
    {
      "cell_type": "code",
      "metadata": {
        "colab": {
          "base_uri": "https://localhost:8080/"
        },
        "id": "RZVUot1o0CPJ",
        "outputId": "6229243e-87f2-4f25-a023-783a8476fbdf"
      },
      "source": [
        "#날짜를 제외한 모든 데이터 정규화(nomalization)\n",
        "for k in range(1,7):\n",
        "  for i in range(len(df.iloc[:,1])):\n",
        "    df.iloc[:,k][i]=(df.iloc[:,k][i]-min(df.iloc[:,k]))/(max(df.iloc[:,k])-min(df.iloc[:,k]))\n",
        "print(df.iloc[:,0:])"
      ],
      "execution_count": null,
      "outputs": [
        {
          "output_type": "stream",
          "text": [
            "              날짜        종가        전일비        시가        고가        저가       거래량\n",
            "0     2020.11.30  0.138649  0.0162791  0.148991   0.15779  0.151632  0.125933\n",
            "1     2020.11.27  0.155549  0.0348837  0.145821  0.164306  0.139763  0.586758\n",
            "2     2020.11.26  0.159935   0.123256  0.185879  0.192635  0.145697  0.699067\n",
            "3     2020.11.25  0.175432          0         0         0         0         0\n",
            "4     2020.11.24  0.175432  0.0534884   0.17464  0.190368  0.161424  0.699731\n",
            "...          ...       ...        ...       ...       ...       ...       ...\n",
            "1285  2015.09.04  0.944118          1  0.976945  0.963173  0.937685  0.768335\n",
            "1286  2015.09.03  0.994118   0.285714  0.988473         1         1  0.543604\n",
            "1287  2015.09.02         1   0.285714  0.948127  0.974432  0.973294  0.481761\n",
            "1288  2015.09.01         1   0.285714         1         1         1         1\n",
            "1289  2015.08.31         1          1         1         1         1         1\n",
            "\n",
            "[1290 rows x 7 columns]\n"
          ],
          "name": "stdout"
        }
      ]
    },
    {
      "cell_type": "code",
      "metadata": {
        "colab": {
          "base_uri": "https://localhost:8080/"
        },
        "id": "v6psR_uN4ehM",
        "outputId": "29c1feff-06f5-4432-b7d4-e93106260bbf"
      },
      "source": [
        "#전일비와 날짜는 쓸모없는 칼럼이므로 날린다\n",
        "del df['전일비']\n",
        "del df['날짜']\n",
        "print(df)"
      ],
      "execution_count": null,
      "outputs": [
        {
          "output_type": "stream",
          "text": [
            "            종가        시가        고가        저가       거래량\n",
            "0     0.138649  0.148991   0.15779  0.151632  0.125933\n",
            "1     0.155549  0.145821  0.164306  0.139763  0.586758\n",
            "2     0.159935  0.185879  0.192635  0.145697  0.699067\n",
            "3     0.175432         0         0         0         0\n",
            "4     0.175432   0.17464  0.190368  0.161424  0.699731\n",
            "...        ...       ...       ...       ...       ...\n",
            "1285  0.944118  0.976945  0.963173  0.937685  0.768335\n",
            "1286  0.994118  0.988473         1         1  0.543604\n",
            "1287         1  0.948127  0.974432  0.973294  0.481761\n",
            "1288         1         1         1         1         1\n",
            "1289         1         1         1         1         1\n",
            "\n",
            "[1290 rows x 5 columns]\n"
          ],
          "name": "stdout"
        }
      ]
    },
    {
      "cell_type": "code",
      "metadata": {
        "id": "gGKloXCd4rLU"
      },
      "source": [
        "#텐서플로우, 케라스 넘파이 임포트\n",
        "from keras.layers.core import Dense, Activation, Dropout\n",
        "from keras.layers.recurrent import LSTM\n",
        "from keras.models import Sequential\n",
        "import numpy as np"
      ],
      "execution_count": null,
      "outputs": []
    },
    {
      "cell_type": "code",
      "metadata": {
        "id": "dwQrnxCv68fQ"
      },
      "source": [
        "#데이터를 한칸씩 밀어서 다음날 종가를 추론 할수있게 한다\n",
        "x_train=df[:999].drop(['종가'],axis='columns')\n",
        "y_train=df[1:1000]['종가']\n",
        "x_train=np.array(x_train).astype(np.float32)\n",
        "y_train=np.array(y_train).astype(np.float32)\n",
        "x_train=x_train.reshape(x_train.shape[0],4,1)\n",
        "x_test=df[999:1289].drop(['종가'],axis='columns')\n",
        "y_test=df[1000:]['종가']\n",
        "x_test=np.array(x_test).astype(np.float32)\n",
        "y_test=np.array(y_test).astype(np.float32)\n",
        "x_test=x_test.reshape(x_test.shape[0],4,1)\n",
        "print(x_train.shape,y_train.shape)\n",
        "print(x_test.shape,y_test.shape)\n",
        "print(x_train,y_train)"
      ],
      "execution_count": null,
      "outputs": []
    },
    {
      "cell_type": "code",
      "metadata": {
        "colab": {
          "base_uri": "https://localhost:8080/"
        },
        "id": "p2wKVg5OBMZD",
        "outputId": "a54fb837-442a-452c-d760-2e9005ec8a7d"
      },
      "source": [
        "#실제로 매칭이 되나 확인\n",
        "print(x_train[0],y_train[0])"
      ],
      "execution_count": null,
      "outputs": [
        {
          "output_type": "stream",
          "text": [
            "[[0.14899136]\n",
            " [0.15779036]\n",
            " [0.15163204]\n",
            " [0.12593286]] 0.1555487\n"
          ],
          "name": "stdout"
        }
      ]
    },
    {
      "cell_type": "code",
      "metadata": {
        "colab": {
          "base_uri": "https://localhost:8080/"
        },
        "id": "Nnnt14vE7gYl",
        "outputId": "47d80d17-be62-42cd-f8b4-31e0a57a8c1d"
      },
      "source": [
        "#레이어 모델을 쌓는다.\n",
        "model = Sequential()\n",
        "\n",
        "model.add(LSTM(64,\n",
        "    input_shape=(4,1),\n",
        "    return_sequences=True))\n",
        "\n",
        "model.add(LSTM(\n",
        "    64,\n",
        "    return_sequences=False))\n",
        "model.add(Dense(1,Activation('linear')))\n",
        "\n",
        "model.compile(loss='mse', optimizer='rmsprop',metrics=[\"accuracy\"])\n",
        "model.summary()\n"
      ],
      "execution_count": null,
      "outputs": [
        {
          "output_type": "stream",
          "text": [
            "Model: \"sequential_1\"\n",
            "_________________________________________________________________\n",
            "Layer (type)                 Output Shape              Param #   \n",
            "=================================================================\n",
            "lstm_2 (LSTM)                (None, 4, 64)             16896     \n",
            "_________________________________________________________________\n",
            "lstm_3 (LSTM)                (None, 64)                33024     \n",
            "_________________________________________________________________\n",
            "dense_1 (Dense)              (None, 1)                 65        \n",
            "=================================================================\n",
            "Total params: 49,985\n",
            "Trainable params: 49,985\n",
            "Non-trainable params: 0\n",
            "_________________________________________________________________\n"
          ],
          "name": "stdout"
        }
      ]
    },
    {
      "cell_type": "code",
      "metadata": {
        "colab": {
          "base_uri": "https://localhost:8080/"
        },
        "id": "IYogbS227qy0",
        "outputId": "3c7eceaa-fa65-47df-9e8b-6cb6f30f32cb"
      },
      "source": [
        "#학습시작\n",
        "model.fit(x_train,y_train,epochs=10,batch_size=4)"
      ],
      "execution_count": null,
      "outputs": [
        {
          "output_type": "stream",
          "text": [
            "Epoch 1/10\n",
            "250/250 [==============================] - 1s 6ms/step - loss: 4.3874e-04 - accuracy: 0.0000e+00\n",
            "Epoch 2/10\n",
            "250/250 [==============================] - 1s 5ms/step - loss: 3.3157e-04 - accuracy: 0.0000e+00\n",
            "Epoch 3/10\n",
            "250/250 [==============================] - 2s 6ms/step - loss: 3.3146e-04 - accuracy: 0.0000e+00\n",
            "Epoch 4/10\n",
            "250/250 [==============================] - 1s 5ms/step - loss: 2.9933e-04 - accuracy: 0.0000e+00\n",
            "Epoch 5/10\n",
            "250/250 [==============================] - 1s 5ms/step - loss: 3.0641e-04 - accuracy: 0.0000e+00\n",
            "Epoch 6/10\n",
            "250/250 [==============================] - 1s 5ms/step - loss: 2.8508e-04 - accuracy: 0.0000e+00\n",
            "Epoch 7/10\n",
            "250/250 [==============================] - 1s 5ms/step - loss: 2.7433e-04 - accuracy: 0.0000e+00\n",
            "Epoch 8/10\n",
            "250/250 [==============================] - 1s 5ms/step - loss: 2.8006e-04 - accuracy: 0.0000e+00\n",
            "Epoch 9/10\n",
            "250/250 [==============================] - 1s 5ms/step - loss: 2.9241e-04 - accuracy: 0.0000e+00\n",
            "Epoch 10/10\n",
            "250/250 [==============================] - 1s 5ms/step - loss: 2.6259e-04 - accuracy: 0.0000e+00\n"
          ],
          "name": "stdout"
        },
        {
          "output_type": "execute_result",
          "data": {
            "text/plain": [
              "<tensorflow.python.keras.callbacks.History at 0x7f34498b3f60>"
            ]
          },
          "metadata": {
            "tags": []
          },
          "execution_count": 15
        }
      ]
    },
    {
      "cell_type": "code",
      "metadata": {
        "colab": {
          "base_uri": "https://localhost:8080/"
        },
        "id": "BqkXXYiM742n",
        "outputId": "706883a8-33f0-4309-aaf5-13819f9bfdc0"
      },
      "source": [
        "#추이를 확인한다 정확성은 무시\n",
        "model.evaluate(x_test,y_test)"
      ],
      "execution_count": null,
      "outputs": [
        {
          "output_type": "stream",
          "text": [
            "10/10 [==============================] - 0s 2ms/step - loss: 0.1081 - accuracy: 0.0172\n"
          ],
          "name": "stdout"
        },
        {
          "output_type": "execute_result",
          "data": {
            "text/plain": [
              "[0.10813123732805252, 0.017241379246115685]"
            ]
          },
          "metadata": {
            "tags": []
          },
          "execution_count": 16
        }
      ]
    },
    {
      "cell_type": "code",
      "metadata": {
        "colab": {
          "base_uri": "https://localhost:8080/",
          "height": 266
        },
        "id": "A9nsNT5783E5",
        "outputId": "afac187b-e245-4303-cc48-6a42bdd910eb"
      },
      "source": [
        "#뒤에 자른 데이터와 그래프로 비교한다\n",
        "pred=model.predict(x_test)\n",
        "fig=plt.figure(facecolor='white')\n",
        "ax=fig.add_subplot(111)\n",
        "ax.plot(y_test,label='True')\n",
        "ax.plot(pred,label='Prediction')\n",
        "ax.legend()\n",
        "plt.show()"
      ],
      "execution_count": null,
      "outputs": [
        {
          "output_type": "display_data",
          "data": {
            "image/png": "[encoded data removed]",
            "text/plain": [
              "<Figure size 432x288 with 1 Axes>"
            ]
          },
          "metadata": {
            "tags": []
          }
        }
      ]
    },
    {
      "cell_type": "code",
      "metadata": {
        "id": "droI8AiH9JFn"
      },
      "source": [
        "print(x_train,y_train)"
      ],
      "execution_count": null,
      "outputs": []
    },
    {
      "cell_type": "code",
      "metadata": {
        "id": "j00QAYc_Ahj4"
      },
      "source": [
        ""
      ],
      "execution_count": null,
      "outputs": []
    }
  ]
}