{
  "nbformat": 4,
  "nbformat_minor": 0,
  "metadata": {
    "colab": {
      "name": "smnist.ipynb",
      "provenance": [],
      "collapsed_sections": [],
      "mount_file_id": "1NCLWKNRN5mUqsGrylM0YGO3acRVJJ_IK",
      "authorship_tag": "ABX9TyOSt5o/wGoa6BbClGAminNt",
      "include_colab_link": true
    },
    "kernelspec": {
      "name": "python3",
      "display_name": "Python 3"
    },
    "accelerator": "TPU"
  },
  "cells": [
    {
      "cell_type": "markdown",
      "metadata": {
        "id": "view-in-github",
        "colab_type": "text"
      },
      "source": [
        "<a href=\"https://colab.research.google.com/github/uyan21/deepLearningStudy/blob/main/smnist.ipynb\" target=\"_parent\"><img src=\"https://colab.research.google.com/assets/colab-badge.svg\" alt=\"Open In Colab\"/></a>"
      ]
    },
    {
      "cell_type": "markdown",
      "metadata": {
        "id": "n3-vFduuCErS"
      },
      "source": [
        "음성을 인식하여 숫자 몇을 말하는지 파악할 수 있는가"
      ]
    },
    {
      "cell_type": "code",
      "metadata": {
        "colab": {
          "base_uri": "https://localhost:8080/"
        },
        "id": "rxwheUwyuEBE",
        "outputId": "1b702b33-1f0a-4529-a36f-0bf90f743b09"
      },
      "source": [
        "#필요한 라이브러리 받는다\n",
        "from google.colab import drive\n",
        "drive.mount('/content/drive')\n",
        "!pip install pydub\n",
        "import tensorflow as tf\n",
        "#데이터셋 다운로드 lib 임포트\n",
        "import tensorflow_datasets as tfds\n",
        "#RNN(LSTM) 레이어 모델 쓸거임\n",
        "from keras.models import Sequential\n",
        "from keras.layers import LSTM,Dense\n",
        "#원-핫 인코딩 함수 임포트\n",
        "from keras.utils import to_categorical\n",
        "import numpy as np\n",
        "import matplotlib.pyplot as plt"
      ],
      "execution_count": 52,
      "outputs": [
        {
          "output_type": "stream",
          "text": [
            "Drive already mounted at /content/drive; to attempt to forcibly remount, call drive.mount(\"/content/drive\", force_remount=True).\n",
            "Requirement already satisfied: pydub in /usr/local/lib/python3.6/dist-packages (0.24.1)\n"
          ],
          "name": "stdout"
        }
      ]
    },
    {
      "cell_type": "code",
      "metadata": {
        "id": "K2QcxmtouYk0"
      },
      "source": [
        "#다운로드\n",
        "ds=tfds.load('spoken_digit',shuffle_files=True)"
      ],
      "execution_count": 53,
      "outputs": []
    },
    {
      "cell_type": "code",
      "metadata": {
        "colab": {
          "base_uri": "https://localhost:8080/"
        },
        "id": "4n-cTQPGu0oV",
        "outputId": "c05ee207-5b06-4377-fa96-ca6f4eeaa535"
      },
      "source": [
        "#키 확인하고 데이터셋 분류한다\n",
        "#(데이터 제공한사람이 대충만들어서train 밖에 없으므로 나중에 \n",
        "#이안에서 train, test, val 나눈다)\n",
        "print(ds.keys())\n",
        "ds_train=ds['train']\n",
        "#ds_train=ds_train.shuffle(1024)"
      ],
      "execution_count": 54,
      "outputs": [
        {
          "output_type": "stream",
          "text": [
            "dict_keys(['train'])\n"
          ],
          "name": "stdout"
        }
      ]
    },
    {
      "cell_type": "code",
      "metadata": {
        "colab": {
          "base_uri": "https://localhost:8080/"
        },
        "id": "YflMdesmu4Ys",
        "outputId": "9a1d0b33-3935-496f-9ad9-eab69880c73c"
      },
      "source": [
        "#데이터 전처리(사이즈 평균(5000정도됨)에 맞춰서 긴거는 짤리게 하지말고 그냥 사이즈 확 늘린다)\n",
        "arrl=[]\n",
        "for i in ds_train.as_numpy_iterator():\n",
        "  arr=i['audio']\n",
        "  arr=np.asarray(arr)\n",
        "  arr=np.resize(arr,(10000,))\n",
        "  arrl.append(arr)\n",
        "x=np.asarray(arrl)\n",
        "print(x.shape)"
      ],
      "execution_count": 55,
      "outputs": [
        {
          "output_type": "stream",
          "text": [
            "(2500, 10000)\n"
          ],
          "name": "stdout"
        }
      ]
    },
    {
      "cell_type": "code",
      "metadata": {
        "colab": {
          "base_uri": "https://localhost:8080/"
        },
        "id": "lH4nfvTRvD_m",
        "outputId": "14fc42a4-3da1-438c-c0f9-37fcf4ee0196"
      },
      "source": [
        "#y데이터(답) 전처리\n",
        "arrl=[]\n",
        "for i in ds_train.as_numpy_iterator():\n",
        "  y_=i['label']\n",
        "  arrl.append(y_)\n",
        "y=np.asarray(arrl)\n",
        "print(y.shape)"
      ],
      "execution_count": 56,
      "outputs": [
        {
          "output_type": "stream",
          "text": [
            "(2500,)\n"
          ],
          "name": "stdout"
        }
      ]
    },
    {
      "cell_type": "code",
      "metadata": {
        "colab": {
          "base_uri": "https://localhost:8080/",
          "height": 248
        },
        "id": "5pPy33VpwPEH",
        "outputId": "95c244fa-9508-4c21-d7d7-3ed2f3fc58f9"
      },
      "source": [
        "#주파수 시각화 해본다\n",
        "k,a=plt.subplots(5)\n",
        "for i in range(5):\n",
        "  a[i].axis('off')\n",
        "  a[i].plot(x[i])\n",
        "\n",
        "plt.show()"
      ],
      "execution_count": 57,
      "outputs": [
        {
          "output_type": "display_data",
          "data": {
            "image/png": "[encoded data removed]",
            "text/plain": [
              "<Figure size 432x288 with 5 Axes>"
            ]
          },
          "metadata": {
            "tags": [],
            "needs_background": "light"
          }
        }
      ]
    },
    {
      "cell_type": "code",
      "metadata": {
        "colab": {
          "base_uri": "https://localhost:8080/"
        },
        "id": "9kVrHzATwRjL",
        "outputId": "a73add2e-11d6-43ee-b82f-f0101b424251"
      },
      "source": [
        "#데이터 원-핫 인코딩\n",
        "y=to_categorical(y)\n",
        "print(y.shape)"
      ],
      "execution_count": 58,
      "outputs": [
        {
          "output_type": "stream",
          "text": [
            "(2500, 10)\n"
          ],
          "name": "stdout"
        }
      ]
    },
    {
      "cell_type": "code",
      "metadata": {
        "id": "WCtB4H2KwYCl"
      },
      "source": [
        "#주파수 값차이가 좀 커서 정규화를 해야될 것 같음\n",
        "#정규화 함수 정의\n",
        "#정규화 영어스펠링 까먹어서 저렇게 씀\n",
        "def nomaliza(dataset):\n",
        "  arr=[]\n",
        "  for i in dataset:\n",
        "    arr.append((i - np.min(i)) / (np.max(i)-np.min(i)))\n",
        "  arr=np.asarray(arr)\n",
        "  return arr"
      ],
      "execution_count": 59,
      "outputs": []
    },
    {
      "cell_type": "code",
      "metadata": {
        "colab": {
          "base_uri": "https://localhost:8080/",
          "height": 265
        },
        "id": "xnDCdODkw-La",
        "outputId": "4a07ddd3-d203-4291-f3fb-f03644279697"
      },
      "source": [
        "#정규화\n",
        "x_n=nomaliza(x)\n",
        "#정규화 전후 그래프 상의 차이가 있나 비교\n",
        "k,a=plt.subplots(2,5)\n",
        "for i in range(5):\n",
        "  for j in range(2):\n",
        "    if j==1:\n",
        "      a[j,i].plot(x_n[i])\n",
        "    else:\n",
        "      a[j,i].plot(x[i])\n",
        "\n",
        "plt.show()"
      ],
      "execution_count": 60,
      "outputs": [
        {
          "output_type": "display_data",
          "data": {
            "image/png": "[encoded data removed]",
            "text/plain": [
              "<Figure size 432x288 with 10 Axes>"
            ]
          },
          "metadata": {
            "tags": [],
            "needs_background": "light"
          }
        }
      ]
    },
    {
      "cell_type": "code",
      "metadata": {
        "colab": {
          "base_uri": "https://localhost:8080/"
        },
        "id": "dOOA2THv5nPO",
        "outputId": "bc618b05-91aa-4ba8-f553-7f1e24c1ace2"
      },
      "source": [
        "#이제 훈련용, 테스트용, 비교용 나눈다\n",
        "x=x_n\n",
        "x_train=x[:2000]\n",
        "x_tmp=x[2000:]\n",
        "x_test=x_tmp[:400]\n",
        "x_val=x_tmp[400:]\n",
        "y_train=y[:2000]\n",
        "y_tmp=y[2000:]\n",
        "y_test=y_tmp[:400]\n",
        "y_val=y_tmp[400:]\n",
        "print(x_train.shape,x_test.shape,x_val.shape)\n",
        "print(y_train.shape,y_test.shape,y_val.shape)"
      ],
      "execution_count": 61,
      "outputs": [
        {
          "output_type": "stream",
          "text": [
            "(2000, 10000) (400, 10000) (100, 10000)\n",
            "(2000, 10) (400, 10) (100, 10)\n"
          ],
          "name": "stdout"
        }
      ]
    },
    {
      "cell_type": "code",
      "metadata": {
        "colab": {
          "base_uri": "https://localhost:8080/"
        },
        "id": "R68kBAt60eY-",
        "outputId": "8b3190c1-29ea-4702-e211-2a6f8e400b22"
      },
      "source": [
        "#원래는 10000 시리얼 데이터인데 100,100 디멘션으로 나눈다\n",
        "#학습을 빠르게 하기 위함\n",
        "x_train=x_train.reshape(x_train.shape[0],100,100)\n",
        "x_test=x_test.reshape(x_test.shape[0],100,100)\n",
        "x_val=x_val.reshape(x_val.shape[0],100,100)\n",
        "print(x_train.shape,x_test.shape,x_val.shape)"
      ],
      "execution_count": 62,
      "outputs": [
        {
          "output_type": "stream",
          "text": [
            "(2000, 100, 100) (400, 100, 100) (100, 100, 100)\n"
          ],
          "name": "stdout"
        }
      ]
    },
    {
      "cell_type": "code",
      "metadata": {
        "colab": {
          "base_uri": "https://localhost:8080/"
        },
        "id": "EqSYvI8r3XOb",
        "outputId": "e8a3d566-f97c-4102-c626-3bbda7216615"
      },
      "source": [
        "#레이어 모델을 쌓는다\n",
        "#레이어 3개만 쌓음\n",
        "model = Sequential()\n",
        "\n",
        "model.add(LSTM(128,input_shape=(100,100),return_sequences=True))\n",
        "model.add(LSTM(64,return_sequences=False))\n",
        "model.add(Dense(10,activation='softmax'))\n",
        "\n",
        "#손실함수 mse쓰니까 정확도가 너무 안나옴\n",
        "model.compile(loss='categorical_crossentropy', optimizer='adam',metrics=[\"accuracy\"])\n",
        "model.summary()"
      ],
      "execution_count": 63,
      "outputs": [
        {
          "output_type": "stream",
          "text": [
            "Model: \"sequential_3\"\n",
            "_________________________________________________________________\n",
            "Layer (type)                 Output Shape              Param #   \n",
            "=================================================================\n",
            "lstm_6 (LSTM)                (None, 100, 128)          117248    \n",
            "_________________________________________________________________\n",
            "lstm_7 (LSTM)                (None, 64)                49408     \n",
            "_________________________________________________________________\n",
            "dense_3 (Dense)              (None, 10)                650       \n",
            "=================================================================\n",
            "Total params: 167,306\n",
            "Trainable params: 167,306\n",
            "Non-trainable params: 0\n",
            "_________________________________________________________________\n"
          ],
          "name": "stdout"
        }
      ]
    },
    {
      "cell_type": "code",
      "metadata": {
        "colab": {
          "base_uri": "https://localhost:8080/"
        },
        "id": "YVpH43cW3m8J",
        "outputId": "beafd220-dbe4-4fb6-ddc1-fd772bb09e2c"
      },
      "source": [
        "#학습시작\n",
        "hist=model.fit(x_train,y_train,epochs=100,batch_size=4,validation_data=(x_val,y_val))"
      ],
      "execution_count": 64,
      "outputs": [
        {
          "output_type": "stream",
          "text": [
            "Epoch 1/100\n",
            "250/250 [==============================] - 22s 89ms/step - loss: 2.3248 - accuracy: 0.1105 - val_loss: 2.2912 - val_accuracy: 0.1700\n",
            "Epoch 2/100\n",
            "250/250 [==============================] - 22s 87ms/step - loss: 2.3089 - accuracy: 0.1080 - val_loss: 2.2986 - val_accuracy: 0.1000\n",
            "Epoch 3/100\n",
            "250/250 [==============================] - 22s 89ms/step - loss: 2.3021 - accuracy: 0.0995 - val_loss: 2.2847 - val_accuracy: 0.1200\n",
            "Epoch 4/100\n",
            "250/250 [==============================] - 22s 88ms/step - loss: 2.2962 - accuracy: 0.1210 - val_loss: 2.2672 - val_accuracy: 0.1300\n",
            "Epoch 5/100\n",
            "250/250 [==============================] - 23s 91ms/step - loss: 2.2923 - accuracy: 0.1175 - val_loss: 2.2564 - val_accuracy: 0.1800\n",
            "Epoch 6/100\n",
            "250/250 [==============================] - 22s 89ms/step - loss: 2.2723 - accuracy: 0.1290 - val_loss: 2.2384 - val_accuracy: 0.1800\n",
            "Epoch 7/100\n",
            "250/250 [==============================] - 22s 88ms/step - loss: 2.2746 - accuracy: 0.1360 - val_loss: 2.2488 - val_accuracy: 0.1700\n",
            "Epoch 8/100\n",
            "250/250 [==============================] - 22s 89ms/step - loss: 2.3034 - accuracy: 0.0885 - val_loss: 2.3032 - val_accuracy: 0.0900\n",
            "Epoch 9/100\n",
            "250/250 [==============================] - 22s 89ms/step - loss: 2.3030 - accuracy: 0.0940 - val_loss: 2.3032 - val_accuracy: 0.1000\n",
            "Epoch 10/100\n",
            "250/250 [==============================] - 22s 88ms/step - loss: 2.3029 - accuracy: 0.0915 - val_loss: 2.3030 - val_accuracy: 0.1100\n",
            "Epoch 11/100\n",
            "250/250 [==============================] - 22s 88ms/step - loss: 2.3029 - accuracy: 0.0960 - val_loss: 2.3024 - val_accuracy: 0.1100\n",
            "Epoch 12/100\n",
            "250/250 [==============================] - 22s 87ms/step - loss: 2.3028 - accuracy: 0.0970 - val_loss: 2.3029 - val_accuracy: 0.1100\n",
            "Epoch 13/100\n",
            "250/250 [==============================] - 22s 88ms/step - loss: 2.3030 - accuracy: 0.1000 - val_loss: 2.3035 - val_accuracy: 0.0900\n",
            "Epoch 14/100\n",
            "250/250 [==============================] - 22s 88ms/step - loss: 2.3027 - accuracy: 0.1065 - val_loss: 2.3023 - val_accuracy: 0.1100\n",
            "Epoch 15/100\n",
            "250/250 [==============================] - 22s 88ms/step - loss: 2.3030 - accuracy: 0.0945 - val_loss: 2.3033 - val_accuracy: 0.1100\n",
            "Epoch 16/100\n",
            "250/250 [==============================] - 22s 89ms/step - loss: 2.3027 - accuracy: 0.1040 - val_loss: 2.3034 - val_accuracy: 0.1100\n",
            "Epoch 17/100\n",
            "250/250 [==============================] - 22s 88ms/step - loss: 2.3028 - accuracy: 0.1010 - val_loss: 2.3032 - val_accuracy: 0.1100\n",
            "Epoch 18/100\n",
            "250/250 [==============================] - 22s 90ms/step - loss: 2.3028 - accuracy: 0.1040 - val_loss: 2.3027 - val_accuracy: 0.1100\n",
            "Epoch 19/100\n",
            "250/250 [==============================] - 23s 91ms/step - loss: 2.3017 - accuracy: 0.1035 - val_loss: 2.3031 - val_accuracy: 0.1100\n",
            "Epoch 20/100\n",
            "250/250 [==============================] - 22s 89ms/step - loss: 2.3028 - accuracy: 0.1135 - val_loss: 2.3019 - val_accuracy: 0.1100\n",
            "Epoch 21/100\n",
            "250/250 [==============================] - 22s 88ms/step - loss: 2.3021 - accuracy: 0.1055 - val_loss: 2.2981 - val_accuracy: 0.1100\n",
            "Epoch 22/100\n",
            "250/250 [==============================] - 22s 89ms/step - loss: 2.3015 - accuracy: 0.0990 - val_loss: 2.3030 - val_accuracy: 0.1000\n",
            "Epoch 23/100\n",
            "250/250 [==============================] - 23s 93ms/step - loss: 2.3017 - accuracy: 0.1090 - val_loss: 2.2951 - val_accuracy: 0.1100\n",
            "Epoch 24/100\n",
            "250/250 [==============================] - 23s 90ms/step - loss: 2.3000 - accuracy: 0.1100 - val_loss: 2.2956 - val_accuracy: 0.1300\n",
            "Epoch 25/100\n",
            "250/250 [==============================] - 22s 89ms/step - loss: 2.2995 - accuracy: 0.1180 - val_loss: 2.3042 - val_accuracy: 0.1100\n",
            "Epoch 26/100\n",
            "250/250 [==============================] - 22s 90ms/step - loss: 2.3038 - accuracy: 0.1065 - val_loss: 2.2999 - val_accuracy: 0.0900\n",
            "Epoch 27/100\n",
            "250/250 [==============================] - 23s 90ms/step - loss: 2.3021 - accuracy: 0.1085 - val_loss: 2.3016 - val_accuracy: 0.1100\n",
            "Epoch 28/100\n",
            "250/250 [==============================] - 22s 89ms/step - loss: 2.3011 - accuracy: 0.1025 - val_loss: 2.2926 - val_accuracy: 0.1500\n",
            "Epoch 29/100\n",
            "250/250 [==============================] - 22s 90ms/step - loss: 2.2962 - accuracy: 0.1135 - val_loss: 2.3031 - val_accuracy: 0.1100\n",
            "Epoch 30/100\n",
            "250/250 [==============================] - 22s 89ms/step - loss: 2.2897 - accuracy: 0.1285 - val_loss: 2.2698 - val_accuracy: 0.1400\n",
            "Epoch 31/100\n",
            "250/250 [==============================] - 22s 89ms/step - loss: 2.2822 - accuracy: 0.1345 - val_loss: 2.2622 - val_accuracy: 0.1600\n",
            "Epoch 32/100\n",
            "250/250 [==============================] - 22s 89ms/step - loss: 2.2775 - accuracy: 0.1325 - val_loss: 2.2405 - val_accuracy: 0.1600\n",
            "Epoch 33/100\n",
            "250/250 [==============================] - 24s 94ms/step - loss: 2.2918 - accuracy: 0.1225 - val_loss: 2.2663 - val_accuracy: 0.1600\n",
            "Epoch 34/100\n",
            "250/250 [==============================] - 22s 90ms/step - loss: 2.2792 - accuracy: 0.1250 - val_loss: 2.2403 - val_accuracy: 0.1600\n",
            "Epoch 35/100\n",
            "250/250 [==============================] - 22s 89ms/step - loss: 2.2710 - accuracy: 0.1350 - val_loss: 2.2546 - val_accuracy: 0.1800\n",
            "Epoch 36/100\n",
            "250/250 [==============================] - 23s 94ms/step - loss: 2.2649 - accuracy: 0.1450 - val_loss: 2.2346 - val_accuracy: 0.1500\n",
            "Epoch 37/100\n",
            "250/250 [==============================] - 23s 94ms/step - loss: 2.2690 - accuracy: 0.1355 - val_loss: 2.2393 - val_accuracy: 0.1800\n",
            "Epoch 38/100\n",
            "250/250 [==============================] - 23s 90ms/step - loss: 2.2611 - accuracy: 0.1425 - val_loss: 2.2267 - val_accuracy: 0.1700\n",
            "Epoch 39/100\n",
            "250/250 [==============================] - 23s 91ms/step - loss: 2.2572 - accuracy: 0.1460 - val_loss: 2.2190 - val_accuracy: 0.1600\n",
            "Epoch 40/100\n",
            "250/250 [==============================] - 22s 89ms/step - loss: 2.2579 - accuracy: 0.1445 - val_loss: 2.2157 - val_accuracy: 0.1700\n",
            "Epoch 41/100\n",
            "250/250 [==============================] - 22s 89ms/step - loss: 2.2603 - accuracy: 0.1465 - val_loss: 2.2206 - val_accuracy: 0.1700\n",
            "Epoch 42/100\n",
            "250/250 [==============================] - 22s 90ms/step - loss: 2.2521 - accuracy: 0.1490 - val_loss: 2.2124 - val_accuracy: 0.1700\n",
            "Epoch 43/100\n",
            "250/250 [==============================] - 23s 91ms/step - loss: 2.2454 - accuracy: 0.1570 - val_loss: 2.2176 - val_accuracy: 0.1600\n",
            "Epoch 44/100\n",
            "250/250 [==============================] - 23s 91ms/step - loss: 2.2484 - accuracy: 0.1480 - val_loss: 2.2034 - val_accuracy: 0.1700\n",
            "Epoch 45/100\n",
            "250/250 [==============================] - 23s 90ms/step - loss: 2.2451 - accuracy: 0.1600 - val_loss: 2.2007 - val_accuracy: 0.2100\n",
            "Epoch 46/100\n",
            "250/250 [==============================] - 23s 91ms/step - loss: 2.2437 - accuracy: 0.1540 - val_loss: 2.1897 - val_accuracy: 0.1700\n",
            "Epoch 47/100\n",
            "250/250 [==============================] - 23s 91ms/step - loss: 2.2397 - accuracy: 0.1585 - val_loss: 2.1838 - val_accuracy: 0.1700\n",
            "Epoch 48/100\n",
            "250/250 [==============================] - 25s 99ms/step - loss: 2.2470 - accuracy: 0.1515 - val_loss: 2.1906 - val_accuracy: 0.1800\n",
            "Epoch 49/100\n",
            "250/250 [==============================] - 24s 96ms/step - loss: 2.2446 - accuracy: 0.1560 - val_loss: 2.1835 - val_accuracy: 0.1800\n",
            "Epoch 50/100\n",
            "250/250 [==============================] - 23s 91ms/step - loss: 2.2388 - accuracy: 0.1595 - val_loss: 2.1918 - val_accuracy: 0.1600\n",
            "Epoch 51/100\n",
            "250/250 [==============================] - 24s 98ms/step - loss: 2.2353 - accuracy: 0.1515 - val_loss: 2.1851 - val_accuracy: 0.1900\n",
            "Epoch 52/100\n",
            "250/250 [==============================] - 23s 91ms/step - loss: 2.2338 - accuracy: 0.1610 - val_loss: 2.1874 - val_accuracy: 0.1700\n",
            "Epoch 53/100\n",
            "250/250 [==============================] - 23s 93ms/step - loss: 2.2354 - accuracy: 0.1555 - val_loss: 2.1954 - val_accuracy: 0.1900\n",
            "Epoch 54/100\n",
            "250/250 [==============================] - 24s 94ms/step - loss: 2.2325 - accuracy: 0.1590 - val_loss: 2.1875 - val_accuracy: 0.1700\n",
            "Epoch 55/100\n",
            "250/250 [==============================] - 23s 92ms/step - loss: 2.2362 - accuracy: 0.1550 - val_loss: 2.1737 - val_accuracy: 0.1900\n",
            "Epoch 56/100\n",
            "250/250 [==============================] - 23s 93ms/step - loss: 2.2363 - accuracy: 0.1575 - val_loss: 2.1815 - val_accuracy: 0.1700\n",
            "Epoch 57/100\n",
            "250/250 [==============================] - 24s 94ms/step - loss: 2.2303 - accuracy: 0.1675 - val_loss: 2.1857 - val_accuracy: 0.1600\n",
            "Epoch 58/100\n",
            "250/250 [==============================] - 23s 91ms/step - loss: 2.2369 - accuracy: 0.1560 - val_loss: 2.1729 - val_accuracy: 0.1800\n",
            "Epoch 59/100\n",
            "250/250 [==============================] - 23s 91ms/step - loss: 2.2311 - accuracy: 0.1620 - val_loss: 2.1703 - val_accuracy: 0.1900\n",
            "Epoch 60/100\n",
            "250/250 [==============================] - 24s 96ms/step - loss: 2.2302 - accuracy: 0.1630 - val_loss: 2.1838 - val_accuracy: 0.1900\n",
            "Epoch 61/100\n",
            "250/250 [==============================] - 24s 96ms/step - loss: 2.2313 - accuracy: 0.1680 - val_loss: 2.1677 - val_accuracy: 0.2000\n",
            "Epoch 62/100\n",
            "250/250 [==============================] - 24s 94ms/step - loss: 2.2266 - accuracy: 0.1665 - val_loss: 2.1718 - val_accuracy: 0.1600\n",
            "Epoch 63/100\n",
            "250/250 [==============================] - 24s 95ms/step - loss: 2.2289 - accuracy: 0.1655 - val_loss: 2.1700 - val_accuracy: 0.1600\n",
            "Epoch 64/100\n",
            "250/250 [==============================] - 24s 96ms/step - loss: 2.2269 - accuracy: 0.1650 - val_loss: 2.1826 - val_accuracy: 0.1700\n",
            "Epoch 65/100\n",
            "250/250 [==============================] - 24s 96ms/step - loss: 2.2290 - accuracy: 0.1670 - val_loss: 2.1828 - val_accuracy: 0.1700\n",
            "Epoch 66/100\n",
            "250/250 [==============================] - 24s 97ms/step - loss: 2.2287 - accuracy: 0.1590 - val_loss: 2.1818 - val_accuracy: 0.1700\n",
            "Epoch 67/100\n",
            "250/250 [==============================] - 25s 100ms/step - loss: 2.2257 - accuracy: 0.1645 - val_loss: 2.1679 - val_accuracy: 0.1600\n",
            "Epoch 68/100\n",
            "250/250 [==============================] - 25s 98ms/step - loss: 2.2248 - accuracy: 0.1665 - val_loss: 2.1633 - val_accuracy: 0.1900\n",
            "Epoch 69/100\n",
            "250/250 [==============================] - 24s 95ms/step - loss: 2.2248 - accuracy: 0.1625 - val_loss: 2.1621 - val_accuracy: 0.1800\n",
            "Epoch 70/100\n",
            "250/250 [==============================] - 23s 91ms/step - loss: 2.2281 - accuracy: 0.1535 - val_loss: 2.1645 - val_accuracy: 0.1800\n",
            "Epoch 71/100\n",
            "250/250 [==============================] - 23s 92ms/step - loss: 2.2204 - accuracy: 0.1620 - val_loss: 2.1751 - val_accuracy: 0.1900\n",
            "Epoch 72/100\n",
            "250/250 [==============================] - 23s 92ms/step - loss: 2.2301 - accuracy: 0.1615 - val_loss: 2.1658 - val_accuracy: 0.1800\n",
            "Epoch 73/100\n",
            "250/250 [==============================] - 26s 102ms/step - loss: 2.2236 - accuracy: 0.1595 - val_loss: 2.1664 - val_accuracy: 0.1900\n",
            "Epoch 74/100\n",
            "250/250 [==============================] - 25s 99ms/step - loss: 2.2220 - accuracy: 0.1755 - val_loss: 2.1603 - val_accuracy: 0.1600\n",
            "Epoch 75/100\n",
            "250/250 [==============================] - 23s 92ms/step - loss: 2.2187 - accuracy: 0.1735 - val_loss: 2.1580 - val_accuracy: 0.1800\n",
            "Epoch 76/100\n",
            "250/250 [==============================] - 24s 95ms/step - loss: 2.2251 - accuracy: 0.1640 - val_loss: 2.1613 - val_accuracy: 0.1800\n",
            "Epoch 77/100\n",
            "250/250 [==============================] - 23s 93ms/step - loss: 2.2203 - accuracy: 0.1690 - val_loss: 2.1640 - val_accuracy: 0.1800\n",
            "Epoch 78/100\n",
            "250/250 [==============================] - 23s 92ms/step - loss: 2.2833 - accuracy: 0.1295 - val_loss: 2.3263 - val_accuracy: 0.0700\n",
            "Epoch 79/100\n",
            "250/250 [==============================] - 23s 92ms/step - loss: 2.3117 - accuracy: 0.1085 - val_loss: 2.3044 - val_accuracy: 0.1200\n",
            "Epoch 80/100\n",
            "250/250 [==============================] - 23s 93ms/step - loss: 2.3018 - accuracy: 0.1065 - val_loss: 2.2723 - val_accuracy: 0.1700\n",
            "Epoch 81/100\n",
            "250/250 [==============================] - 23s 93ms/step - loss: 2.2884 - accuracy: 0.1255 - val_loss: 2.2330 - val_accuracy: 0.1300\n",
            "Epoch 82/100\n",
            "250/250 [==============================] - 23s 91ms/step - loss: 2.2701 - accuracy: 0.1395 - val_loss: 2.2390 - val_accuracy: 0.1400\n",
            "Epoch 83/100\n",
            "250/250 [==============================] - 23s 92ms/step - loss: 2.2474 - accuracy: 0.1550 - val_loss: 2.1554 - val_accuracy: 0.1800\n",
            "Epoch 84/100\n",
            "250/250 [==============================] - 23s 92ms/step - loss: 2.2129 - accuracy: 0.1670 - val_loss: 2.1191 - val_accuracy: 0.1800\n",
            "Epoch 85/100\n",
            "250/250 [==============================] - 23s 91ms/step - loss: 2.1707 - accuracy: 0.1960 - val_loss: 2.0628 - val_accuracy: 0.2500\n",
            "Epoch 86/100\n",
            "250/250 [==============================] - 24s 96ms/step - loss: 2.0701 - accuracy: 0.2140 - val_loss: 1.9805 - val_accuracy: 0.2400\n",
            "Epoch 87/100\n",
            "250/250 [==============================] - 23s 92ms/step - loss: 2.0882 - accuracy: 0.2050 - val_loss: 2.0587 - val_accuracy: 0.2100\n",
            "Epoch 88/100\n",
            "250/250 [==============================] - 23s 91ms/step - loss: 2.0147 - accuracy: 0.2210 - val_loss: 2.0563 - val_accuracy: 0.1900\n",
            "Epoch 89/100\n",
            "250/250 [==============================] - 23s 93ms/step - loss: 1.9661 - accuracy: 0.2370 - val_loss: 1.8805 - val_accuracy: 0.2700\n",
            "Epoch 90/100\n",
            "250/250 [==============================] - 23s 92ms/step - loss: 1.9054 - accuracy: 0.2545 - val_loss: 1.8000 - val_accuracy: 0.2600\n",
            "Epoch 91/100\n",
            "250/250 [==============================] - 23s 92ms/step - loss: 1.8730 - accuracy: 0.2580 - val_loss: 1.7535 - val_accuracy: 0.3500\n",
            "Epoch 92/100\n",
            "250/250 [==============================] - 23s 91ms/step - loss: 2.0024 - accuracy: 0.2285 - val_loss: 1.8655 - val_accuracy: 0.2600\n",
            "Epoch 93/100\n",
            "250/250 [==============================] - 23s 91ms/step - loss: 1.8730 - accuracy: 0.2405 - val_loss: 1.7973 - val_accuracy: 0.3100\n",
            "Epoch 94/100\n",
            "250/250 [==============================] - 23s 91ms/step - loss: 1.8294 - accuracy: 0.2565 - val_loss: 1.7341 - val_accuracy: 0.3000\n",
            "Epoch 95/100\n",
            "250/250 [==============================] - 23s 91ms/step - loss: 1.8005 - accuracy: 0.2660 - val_loss: 1.7336 - val_accuracy: 0.2900\n",
            "Epoch 96/100\n",
            "250/250 [==============================] - 23s 92ms/step - loss: 1.8029 - accuracy: 0.2730 - val_loss: 1.8070 - val_accuracy: 0.2800\n",
            "Epoch 97/100\n",
            "250/250 [==============================] - 23s 92ms/step - loss: 1.7806 - accuracy: 0.2810 - val_loss: 1.8135 - val_accuracy: 0.2200\n",
            "Epoch 98/100\n",
            "250/250 [==============================] - 23s 91ms/step - loss: 1.7644 - accuracy: 0.2975 - val_loss: 1.7177 - val_accuracy: 0.2500\n",
            "Epoch 99/100\n",
            "250/250 [==============================] - 23s 91ms/step - loss: 1.7469 - accuracy: 0.3030 - val_loss: 1.6796 - val_accuracy: 0.3000\n",
            "Epoch 100/100\n",
            "250/250 [==============================] - 23s 94ms/step - loss: 1.7406 - accuracy: 0.2970 - val_loss: 1.6408 - val_accuracy: 0.3500\n"
          ],
          "name": "stdout"
        }
      ]
    },
    {
      "cell_type": "code",
      "metadata": {
        "colab": {
          "base_uri": "https://localhost:8080/"
        },
        "id": "kC7So73S4TIP",
        "outputId": "1a528c71-210d-435e-fdfa-7e175b9b0591"
      },
      "source": [
        "#반복학습 1000번 시켜야 제대로된 훈련모델 어느정도 완성될 듯 함\n",
        "model.evaluate(x_test,y_test)"
      ],
      "execution_count": 65,
      "outputs": [
        {
          "output_type": "stream",
          "text": [
            "13/13 [==============================] - 1s 40ms/step - loss: 1.8241 - accuracy: 0.2750\n"
          ],
          "name": "stdout"
        },
        {
          "output_type": "execute_result",
          "data": {
            "text/plain": [
              "[1.8241450786590576, 0.2750000059604645]"
            ]
          },
          "metadata": {
            "tags": []
          },
          "execution_count": 65
        }
      ]
    },
    {
      "cell_type": "code",
      "metadata": {
        "colab": {
          "base_uri": "https://localhost:8080/",
          "height": 283
        },
        "id": "QXQVWWU1H_L3",
        "outputId": "725ca052-bd01-49a2-95f8-91ed686a7266"
      },
      "source": [
        "#100회 반복 약 40분 걸림 \n",
        "#알파고급 학습 코스트\n",
        "fig, loss_ax = plt.subplots()\n",
        "acc_ax = loss_ax.twinx()\n",
        "loss_ax.axis([0,99,0,5])\n",
        "loss_ax.plot(hist.history['loss'], 'y', label='train loss')\n",
        "loss_ax.plot(hist.history['val_loss'], 'r', label='val loss')\n",
        "loss_ax.set_xlabel('epoch')\n",
        "loss_ax.set_ylabel('loss')\n",
        "loss_ax.legend(loc='upper left')\n",
        "\n",
        "acc_ax.axis([0,99,0,1])\n",
        "acc_ax.plot(hist.history['accuracy'], 'b', label='train acc')\n",
        "acc_ax.plot(hist.history['val_accuracy'], 'g', label='val acc')\n",
        "acc_ax.set_ylabel('accuracy')\n",
        "acc_ax.legend(loc='upper right')\n",
        "\n",
        "plt.show()"
      ],
      "execution_count": 69,
      "outputs": [
        {
          "output_type": "display_data",
          "data": {
            "image/png": "[encoded data removed]",
            "text/plain": [
              "<Figure size 432x288 with 2 Axes>"
            ]
          },
          "metadata": {
            "tags": [],
            "needs_background": "light"
          }
        }
      ]
    }
  ]
}