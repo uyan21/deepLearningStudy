{
  "nbformat": 4,
  "nbformat_minor": 0,
  "metadata": {
    "colab": {
      "name": "smnist.ipynb",
      "provenance": [],
      "collapsed_sections": [],
      "mount_file_id": "1NCLWKNRN5mUqsGrylM0YGO3acRVJJ_IK",
      "authorship_tag": "ABX9TyMd2z7s9dIVhJbszLUgBITa",
      "include_colab_link": true
    },
    "kernelspec": {
      "name": "python3",
      "display_name": "Python 3"
    }
  },
  "cells": [
    {
      "cell_type": "markdown",
      "metadata": {
        "id": "view-in-github",
        "colab_type": "text"
      },
      "source": [
        "<a href=\"https://colab.research.google.com/github/uyan21/deepLearningStudy/blob/main/smnist.ipynb\" target=\"_parent\"><img src=\"https://colab.research.google.com/assets/colab-badge.svg\" alt=\"Open In Colab\"/></a>"
      ]
    },
    {
      "cell_type": "markdown",
      "metadata": {
        "id": "n3-vFduuCErS"
      },
      "source": [
        "음성을 인식하여 숫자 몇을 말하는지 파악할 수 있는가"
      ]
    },
    {
      "cell_type": "code",
      "metadata": {
        "colab": {
          "base_uri": "https://localhost:8080/"
        },
        "id": "rxwheUwyuEBE",
        "outputId": "1ccb94e4-d986-49e5-b0e7-a5cd62ca324f"
      },
      "source": [
        "#필요한 라이브러리 받는다\n",
        "from google.colab import drive\n",
        "drive.mount('/content/drive')\n",
        "!pip install pydub\n",
        "import tensorflow as tf\n",
        "#데이터셋 다운로드 lib 임포트\n",
        "import tensorflow_datasets as tfds\n",
        "#RNN(LSTM) 레이어 모델 쓸거임\n",
        "from keras.models import Sequential\n",
        "from keras.layers import LSTM,Dense\n",
        "#원-핫 인코딩 함수 임포트\n",
        "from keras.utils import to_categorical\n",
        "import numpy as np\n",
        "import matplotlib.pyplot as plt"
      ],
      "execution_count": 148,
      "outputs": [
        {
          "output_type": "stream",
          "text": [
            "Drive already mounted at /content/drive; to attempt to forcibly remount, call drive.mount(\"/content/drive\", force_remount=True).\n",
            "Requirement already satisfied: pydub in /usr/local/lib/python3.6/dist-packages (0.24.1)\n"
          ],
          "name": "stdout"
        }
      ]
    },
    {
      "cell_type": "code",
      "metadata": {
        "id": "K2QcxmtouYk0"
      },
      "source": [
        "#다운로드\n",
        "ds=tfds.load('spoken_digit',shuffle_files=True)"
      ],
      "execution_count": 149,
      "outputs": []
    },
    {
      "cell_type": "code",
      "metadata": {
        "colab": {
          "base_uri": "https://localhost:8080/"
        },
        "id": "4n-cTQPGu0oV",
        "outputId": "da5a02fb-2b4f-4be1-b469-c80b7be475e4"
      },
      "source": [
        "#키 확인하고 데이터셋 분류한다\n",
        "#(데이터 제공한사람이 대충만들어서train 밖에 없으므로 나중에 \n",
        "#이안에서 train, test, val 나눈다)\n",
        "print(ds.keys())\n",
        "ds_train=ds['train']"
      ],
      "execution_count": 150,
      "outputs": [
        {
          "output_type": "stream",
          "text": [
            "dict_keys(['train'])\n"
          ],
          "name": "stdout"
        }
      ]
    },
    {
      "cell_type": "code",
      "metadata": {
        "colab": {
          "base_uri": "https://localhost:8080/"
        },
        "id": "YflMdesmu4Ys",
        "outputId": "bd111120-90e6-46f0-a827-dc75ce7b805c"
      },
      "source": [
        "#데이터 전처리(사이즈 평균(5000정도됨)에 맞춰서 긴거는 짤리게 하지말고 그냥 사이즈 확 늘린다)\n",
        "arrl=[]\n",
        "for i in ds_train.as_numpy_iterator():\n",
        "  arr=i['audio']\n",
        "  arr=np.asarray(arr)\n",
        "  arr=np.resize(arr,(10000,))\n",
        "  arrl.append(arr)\n",
        "x=np.asarray(arrl)\n",
        "print(x.shape)"
      ],
      "execution_count": 151,
      "outputs": [
        {
          "output_type": "stream",
          "text": [
            "(2500, 10000)\n"
          ],
          "name": "stdout"
        }
      ]
    },
    {
      "cell_type": "code",
      "metadata": {
        "colab": {
          "base_uri": "https://localhost:8080/"
        },
        "id": "lH4nfvTRvD_m",
        "outputId": "10adce23-d535-4b8c-e4f2-db92bf08542f"
      },
      "source": [
        "#y데이터(답) 전처리\n",
        "arrl=[]\n",
        "for i in ds_train.as_numpy_iterator():\n",
        "  y_=i['label']\n",
        "  arrl.append(y_)\n",
        "y=np.asarray(arrl)\n",
        "print(y.shape)"
      ],
      "execution_count": 152,
      "outputs": [
        {
          "output_type": "stream",
          "text": [
            "(2500,)\n"
          ],
          "name": "stdout"
        }
      ]
    },
    {
      "cell_type": "code",
      "metadata": {
        "colab": {
          "base_uri": "https://localhost:8080/",
          "height": 248
        },
        "id": "5pPy33VpwPEH",
        "outputId": "7861e39f-d6f8-4ca1-92d3-9c55c21542a8"
      },
      "source": [
        "#주파수 시각화 해본다\n",
        "k,a=plt.subplots(5)\n",
        "for i in range(5):\n",
        "  a[i].axis('off')\n",
        "  a[i].plot(x[i])\n",
        "\n",
        "plt.show()"
      ],
      "execution_count": 153,
      "outputs": [
        {
          "output_type": "display_data",
          "data": {
            "image/png": "[encoded data removed]",
            "text/plain": [
              "<Figure size 432x288 with 5 Axes>"
            ]
          },
          "metadata": {
            "tags": [],
            "needs_background": "light"
          }
        }
      ]
    },
    {
      "cell_type": "code",
      "metadata": {
        "colab": {
          "base_uri": "https://localhost:8080/"
        },
        "id": "9kVrHzATwRjL",
        "outputId": "2907b255-0553-40d8-fa7e-5ddde8c75f9f"
      },
      "source": [
        "#데이터 원-핫 인코딩\n",
        "y=to_categorical(y)\n",
        "print(y.shape)"
      ],
      "execution_count": 154,
      "outputs": [
        {
          "output_type": "stream",
          "text": [
            "(2500, 10)\n"
          ],
          "name": "stdout"
        }
      ]
    },
    {
      "cell_type": "code",
      "metadata": {
        "id": "WCtB4H2KwYCl"
      },
      "source": [
        "#주파수 값차이가 좀 커서 정규화를 해야될 것 같음\n",
        "#정규화 함수 정의\n",
        "#정규화 영어스펠링 까먹어서 저렇게 씀\n",
        "def nomaliza(dataset):\n",
        "  arr=[]\n",
        "  for i in dataset:\n",
        "    arr.append((i - np.mean(i)) / np.std(i))\n",
        "  arr=np.asarray(arr)\n",
        "  return arr"
      ],
      "execution_count": 156,
      "outputs": []
    },
    {
      "cell_type": "code",
      "metadata": {
        "colab": {
          "base_uri": "https://localhost:8080/",
          "height": 265
        },
        "id": "xnDCdODkw-La",
        "outputId": "26cd6240-a635-4da1-b179-11b8be96c02e"
      },
      "source": [
        "#정규화\n",
        "x_n=nomaliza(x)\n",
        "#정규화 전후 그래프 상의 차이가 있나 비교\n",
        "k,a=plt.subplots(2,5)\n",
        "for i in range(5):\n",
        "  for j in range(2):\n",
        "    if j==1:\n",
        "      a[j,i].plot(x_n[i])\n",
        "    else:\n",
        "      a[j,i].plot(x[i])\n",
        "\n",
        "plt.show()"
      ],
      "execution_count": 157,
      "outputs": [
        {
          "output_type": "display_data",
          "data": {
            "image/png": "[encoded data removed]",
            "text/plain": [
              "<Figure size 432x288 with 10 Axes>"
            ]
          },
          "metadata": {
            "tags": [],
            "needs_background": "light"
          }
        }
      ]
    },
    {
      "cell_type": "code",
      "metadata": {
        "colab": {
          "base_uri": "https://localhost:8080/"
        },
        "id": "dOOA2THv5nPO",
        "outputId": "1bab7a4c-b573-47b7-a2a9-e1eb3149bbb6"
      },
      "source": [
        "#이제 훈련용, 테스트용, 비교용 나눈다\n",
        "x_train=x[:2000]\n",
        "x_tmp=x[2000:]\n",
        "x_test=x_tmp[:400]\n",
        "x_val=x_tmp[400:]\n",
        "y_train=y[:2000]\n",
        "y_tmp=y[2000:]\n",
        "y_test=y_tmp[:400]\n",
        "y_val=y_tmp[400:]\n",
        "print(x_train.shape,x_test.shape,x_val.shape)\n",
        "print(y_train.shape,y_test.shape,y_val.shape)"
      ],
      "execution_count": 158,
      "outputs": [
        {
          "output_type": "stream",
          "text": [
            "(2000, 10000) (400, 10000) (100, 10000)\n",
            "(2000, 10) (400, 10) (100, 10)\n"
          ],
          "name": "stdout"
        }
      ]
    },
    {
      "cell_type": "code",
      "metadata": {
        "colab": {
          "base_uri": "https://localhost:8080/"
        },
        "id": "R68kBAt60eY-",
        "outputId": "72f7ecd0-3cba-4fd3-aca6-50578d4acfdb"
      },
      "source": [
        "#원래는 10000 시리얼 데이터인데 100,100 디멘션으로 나눈다\n",
        "#학습을 빠르게 하기 위함\n",
        "x_train=x_train.reshape(x_train.shape[0],100,100)\n",
        "x_test=x_test.reshape(x_test.shape[0],100,100)\n",
        "x_val=x_val.reshape(x_val.shape[0],100,100)\n",
        "print(x_train.shape,x_test.shape,x_val.shape)"
      ],
      "execution_count": 159,
      "outputs": [
        {
          "output_type": "stream",
          "text": [
            "(2000, 100, 100) (400, 100, 100) (100, 100, 100)\n"
          ],
          "name": "stdout"
        }
      ]
    },
    {
      "cell_type": "code",
      "metadata": {
        "colab": {
          "base_uri": "https://localhost:8080/"
        },
        "id": "EqSYvI8r3XOb",
        "outputId": "7b9e434c-5e16-4c7c-82d0-a6ed63030e70"
      },
      "source": [
        "#레이어 모델을 쌓는다\n",
        "#그렇게 복잡한 데이터 아니라서 레이어 3개만 쌓음\n",
        "model = Sequential()\n",
        "\n",
        "model.add(LSTM(128,input_shape=(100,100),return_sequences=True))\n",
        "model.add(LSTM(64,return_sequences=False))\n",
        "model.add(Dense(10,activation='softmax'))\n",
        "#시계열에서 자주쓰는 손실함수 옵티마이저인데\n",
        "#음성데이터도 알고보면 시계열 데이터이고 하니 그냥 이거씀\n",
        "model.compile(loss='mse', optimizer='rmsprop',metrics=[\"accuracy\"])\n",
        "model.summary()"
      ],
      "execution_count": 164,
      "outputs": [
        {
          "output_type": "stream",
          "text": [
            "Model: \"sequential_22\"\n",
            "_________________________________________________________________\n",
            "Layer (type)                 Output Shape              Param #   \n",
            "=================================================================\n",
            "lstm_41 (LSTM)               (None, 100, 128)          117248    \n",
            "_________________________________________________________________\n",
            "lstm_42 (LSTM)               (None, 64)                49408     \n",
            "_________________________________________________________________\n",
            "dense_17 (Dense)             (None, 10)                650       \n",
            "=================================================================\n",
            "Total params: 167,306\n",
            "Trainable params: 167,306\n",
            "Non-trainable params: 0\n",
            "_________________________________________________________________\n"
          ],
          "name": "stdout"
        }
      ]
    },
    {
      "cell_type": "code",
      "metadata": {
        "colab": {
          "base_uri": "https://localhost:8080/"
        },
        "id": "YVpH43cW3m8J",
        "outputId": "9d379b45-6884-4ada-df61-33593021284c"
      },
      "source": [
        "#학습시작\n",
        "hist=model.fit(x_train,y_train,epochs=10,batch_size=8,validation_data=(x_val,y_val))"
      ],
      "execution_count": 165,
      "outputs": [
        {
          "output_type": "stream",
          "text": [
            "Epoch 1/10\n",
            "250/250 [==============================] - 24s 97ms/step - loss: 0.0853 - accuracy: 0.2170 - val_loss: 0.0789 - val_accuracy: 0.3300\n",
            "Epoch 2/10\n",
            "250/250 [==============================] - 23s 93ms/step - loss: 0.0739 - accuracy: 0.3865 - val_loss: 0.0774 - val_accuracy: 0.3200\n",
            "Epoch 3/10\n",
            "250/250 [==============================] - 23s 93ms/step - loss: 0.0651 - accuracy: 0.4905 - val_loss: 0.0706 - val_accuracy: 0.4400\n",
            "Epoch 4/10\n",
            "250/250 [==============================] - 23s 92ms/step - loss: 0.0597 - accuracy: 0.5380 - val_loss: 0.0715 - val_accuracy: 0.4100\n",
            "Epoch 5/10\n",
            "250/250 [==============================] - 23s 93ms/step - loss: 0.0535 - accuracy: 0.5980 - val_loss: 0.0692 - val_accuracy: 0.4600\n",
            "Epoch 6/10\n",
            "250/250 [==============================] - 23s 93ms/step - loss: 0.0505 - accuracy: 0.6285 - val_loss: 0.0638 - val_accuracy: 0.4900\n",
            "Epoch 7/10\n",
            "250/250 [==============================] - 23s 92ms/step - loss: 0.0468 - accuracy: 0.6570 - val_loss: 0.0683 - val_accuracy: 0.4900\n",
            "Epoch 8/10\n",
            "250/250 [==============================] - 23s 92ms/step - loss: 0.0434 - accuracy: 0.6920 - val_loss: 0.0686 - val_accuracy: 0.4900\n",
            "Epoch 9/10\n",
            "250/250 [==============================] - 24s 96ms/step - loss: 0.0401 - accuracy: 0.7225 - val_loss: 0.0661 - val_accuracy: 0.5800\n",
            "Epoch 10/10\n",
            "250/250 [==============================] - 23s 92ms/step - loss: 0.0373 - accuracy: 0.7430 - val_loss: 0.0723 - val_accuracy: 0.5200\n"
          ],
          "name": "stdout"
        }
      ]
    },
    {
      "cell_type": "code",
      "metadata": {
        "colab": {
          "base_uri": "https://localhost:8080/"
        },
        "id": "kC7So73S4TIP",
        "outputId": "efc81dce-554e-4697-df46-f2771d0ec36d"
      },
      "source": [
        "#이정도 확률이면 낮아 보일 수 도 있지만\n",
        "#솔직히 사람도 말귀 잘 못 알아 먹는데 컴퓨터가 이정도면 봐줘야함\n",
        "#사운드데이터 실제로 들어보면 아나운서처럼 발음 하는 것도 아님 \n",
        "model.evaluate(x_test,y_test)"
      ],
      "execution_count": 166,
      "outputs": [
        {
          "output_type": "stream",
          "text": [
            "13/13 [==============================] - 1s 47ms/step - loss: 0.0619 - accuracy: 0.5650\n"
          ],
          "name": "stdout"
        },
        {
          "output_type": "execute_result",
          "data": {
            "text/plain": [
              "[0.061938852071762085, 0.5649999976158142]"
            ]
          },
          "metadata": {
            "tags": []
          },
          "execution_count": 166
        }
      ]
    },
    {
      "cell_type": "code",
      "metadata": {
        "colab": {
          "base_uri": "https://localhost:8080/",
          "height": 283
        },
        "id": "QXQVWWU1H_L3",
        "outputId": "115a733c-dc1a-4987-96a4-3bd2d16c3567"
      },
      "source": [
        "#배치 사이즈 조절하면 정확도 더 높을 것 같음\n",
        "fig, loss_ax = plt.subplots()\n",
        "acc_ax = loss_ax.twinx()\n",
        "loss_ax.axis([0,9,0,1])\n",
        "loss_ax.plot(hist.history['loss'], 'y', label='train loss')\n",
        "loss_ax.plot(hist.history['val_loss'], 'r', label='val loss')\n",
        "loss_ax.set_xlabel('epoch')\n",
        "loss_ax.set_ylabel('loss')\n",
        "loss_ax.legend(loc='upper left')\n",
        "\n",
        "acc_ax.axis([0,9,0,1])\n",
        "acc_ax.plot(hist.history['accuracy'], 'b', label='train acc')\n",
        "acc_ax.plot(hist.history['val_accuracy'], 'g', label='val acc')\n",
        "acc_ax.set_ylabel('accuracy')\n",
        "acc_ax.legend(loc='upper right')\n",
        "\n",
        "plt.show()"
      ],
      "execution_count": 172,
      "outputs": [
        {
          "output_type": "display_data",
          "data": {
            "image/png": "[encoded data removed]",
            "text/plain": [
              "<Figure size 432x288 with 2 Axes>"
            ]
          },
          "metadata": {
            "tags": [],
            "needs_background": "light"
          }
        }
      ]
    }
  ]
}